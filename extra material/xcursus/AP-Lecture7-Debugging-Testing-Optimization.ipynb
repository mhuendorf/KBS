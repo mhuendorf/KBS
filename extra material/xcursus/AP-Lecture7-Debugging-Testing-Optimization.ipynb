{
 "cells": [
  {
   "cell_type": "markdown",
   "metadata": {},
   "source": [
    "# Debugging, Testing, Optimization\n",
    "\n",
    "First, some comments on software design:\n",
    "* Two simple general principles:\n",
    "\n",
    "(1) KIS: Keep it simple.\n",
    "\n",
    "(2) DRY: Don't repeat yourself.\n",
    "\n",
    "* Iterative development (agile development):\n",
    "\n",
    "(1) General idea: one cannot anticipate every detail of a complex problem.\n",
    "\n",
    "(2) Start simple (with something that works), then refine/improve.\n",
    "\n",
    "(3) Identify emerging patterns and structures and continuously adapt the structure of the code. This is called refactoring. For this to work, you will need unit tests (we will see this later)."
   ]
  },
  {
   "cell_type": "markdown",
   "metadata": {},
   "source": [
    "## Reprise: Implementing modular behavior - the strategy pattern\n",
    "\n",
    "First, a naive (and not so extensible/modular implementation)"
   ]
  },
  {
   "cell_type": "code",
   "execution_count": null,
   "metadata": {},
   "outputs": [],
   "source": [
    "class Duck:\n",
    "    def __init__(self):\n",
    "        pass\n",
    "    def quack(self):\n",
    "        print(\"Quack!\")\n",
    "    def display(self):\n",
    "        print(\"Standard duck.\")\n",
    "    def take_off(self):\n",
    "        print(\"Running fast and flapping ...\")\n",
    "    def fly_to(self, where):\n",
    "        \"No flying to {}\".format(where)\n",
    "    def land(self):\n",
    "        print(\"Slowing down, touch down ...\")\n",
    "\n",
    "class RedHeadDuck(Duck):\n",
    "    def display(self):\n",
    "        print(\"Duck with a red head.\")\n",
    "\n",
    "class RubberDuck(Duck):\n",
    "    def quack(self):\n",
    "        print(\"Squeak!\")\n",
    "    def display(self):\n",
    "        print(\"Small yellow rubber duck.\")"
   ]
  },
  {
   "cell_type": "markdown",
   "metadata": {},
   "source": [
    "Now, what to do here - for the RubberDuck we would actually need to implement/override all flying related methods.\n",
    "\n",
    "What if an instance of a \"normal\" duck is injured and has a broken wing?\n",
    "\n",
    "How can we adapt for that?\n",
    "\n",
    "Idea ==> Create a FlyingBehaviorClass which can be plugged into the Duck class."
   ]
  },
  {
   "cell_type": "code",
   "execution_count": null,
   "metadata": {},
   "outputs": [],
   "source": [
    "class FlyingBehavior:\n",
    "    def take_off(self):\n",
    "        print(\"Running fast and flapping ...\")\n",
    "    def fly_to(self, where):\n",
    "        \"No flying to {}\".format(where)\n",
    "    def land(self):\n",
    "        print(\"Slowing down, touch down ...\")\n",
    "        \n",
    "class Duck:\n",
    "    def __init__(self):\n",
    "        self.flying_behavior = FlyingBehavior()\n",
    "    def take_off(self):\n",
    "        self.flying_behavior.take_off()\n",
    "    def fly_to(self, where):\n",
    "        self.flying_behavior.fly_to(where)\n",
    "    def land(self):\n",
    "        self.flying_behavior.land()\n",
    "        \n",
    "class NonFlyingBehavior(FlyingBehavior):\n",
    "    def take_off(self):\n",
    "        print(\"This is not working (not implemented)!\")\n",
    "    def fly_to(self, where):\n",
    "        raise Exception(\"Not flying ...\")\n",
    "    def land(self):\n",
    "        print(\"This will not be necessary ...\")\n",
    "        \n",
    "class RubberDuck(Duck):\n",
    "    def __init__(self):\n",
    "        self.flying_behavior = NonFlyingBehavior()\n",
    "    def quack(self):\n",
    "        print(\"Squeak!\")\n",
    "    def display(self):\n",
    "        print(\"Small yellow rubber duck.\")\n",
    "        \n",
    "class DecoyDuck(Duck):\n",
    "    def __init__(self):\n",
    "        self.flying_behavior = NonFlyingBehavior()\n"
   ]
  },
  {
   "cell_type": "markdown",
   "metadata": {},
   "source": [
    "## Analysis\n",
    "* If a Duck breaks a wing, then we can replace the flying strategy by a NonFlyingBehavior instance\n",
    "* The example relies less on inheritance but on composition\n",
    "* The behavior class (and subclasses), implementing the strategy allow for dynamic tuning of the behavior of the Duck objects ... (!)\n",
    "* This \"dynamic tuning\" is also possible at runtime (!!)\n",
    "* Strategy pattern in a nutshell: (1) Encapsulate the different strategies in different classes. (2) Store a strategy object in your main object as an attribute. (3) Delegate all strategy calls (the method calls) to the strategy object - see the Duck class and the FlyingBehavior class in the example."
   ]
  },
  {
   "cell_type": "markdown",
   "metadata": {},
   "source": [
    "## Debugging: The process of removing errors from your code\n",
    "* Syntax errors\n",
    "* Exceptions\n",
    "* Logic errors\n",
    "\n",
    "The latter two are usually the most difficult ones (while logic errors are typically the most difficult ones)."
   ]
  },
  {
   "attachments": {},
   "cell_type": "markdown",
   "metadata": {},
   "source": [
    "### How to test a function\n",
    "\n",
    "* Try out different combinations of (valid) inputs\n",
    "* However: Depending on how our program is using it, there could be weird cases, e.g., sort([]), sort([2]).\n",
    "* These are called edge cases  - the program should work, but it was probably not necessarily what you had in mind. So for functions, we want to test several general cases and several edge cases, and make sure that if something violates it is precondition it reacts appropriately."
   ]
  },
  {
   "cell_type": "code",
   "execution_count": 5,
   "metadata": {},
   "outputs": [],
   "source": [
    "def longestSubSeq(myList):\n",
    "    lastItem = myList[0]\n",
    "    current = 0\n",
    "    best = 0\n",
    "    for item in myList:\n",
    "        if(item == lastItem):\n",
    "            best = best + 1\n",
    "            if best < current:\n",
    "                best = current\n",
    "        else:\n",
    "            lastItem = item\n",
    "            current = 1\n",
    "    return best"
   ]
  },
  {
   "cell_type": "markdown",
   "metadata": {},
   "source": [
    "Now, we need some good test cases:"
   ]
  },
  {
   "cell_type": "code",
   "execution_count": 6,
   "metadata": {},
   "outputs": [
    {
     "name": "stdout",
     "output_type": "stream",
     "text": [
      "1\n",
      "1\n",
      "3\n",
      "2\n",
      "5\n"
     ]
    }
   ],
   "source": [
    "def test():\n",
    "    print(longestSubSeq([1]))\n",
    "    print(longestSubSeq([1, 2, 3]))\n",
    "    print(longestSubSeq([1, 1, 1, 2]))\n",
    "    print(longestSubSeq([1, 1, 2, 1]))\n",
    "    print(longestSubSeq([1, 1, 2, 3, 2, 2, 2, 2]))\n",
    "\n",
    "test()"
   ]
  },
  {
   "cell_type": "markdown",
   "metadata": {},
   "source": [
    "Now, how do we find the error (You will notice, that actually the last test fails - please verify ...)\n",
    "One very simple technique is using print statements.\n",
    "\n",
    "This is something you will try out as an *exercise* - for fixing the example (above).\n",
    "\n",
    "Essentially, the test function should print the sequence: 1 1 3 2 4 (!)"
   ]
  },
  {
   "cell_type": "markdown",
   "metadata": {},
   "source": [
    "## Test driven development - write unit cases for testing your code\n",
    "\n",
    "Examples:"
   ]
  },
  {
   "cell_type": "code",
   "execution_count": 7,
   "metadata": {},
   "outputs": [
    {
     "name": "stderr",
     "output_type": "stream",
     "text": [
      "F\n",
      "======================================================================\n",
      "FAIL: test_hello_world (__main__.MyFirstUnitTest)\n",
      "----------------------------------------------------------------------\n",
      "Traceback (most recent call last):\n",
      "  File \"<ipython-input-7-13f76e73190c>\", line 8, in test_hello_world\n",
      "    self.assertEqual(hello_world(), 'hello world')\n",
      "AssertionError: None != 'hello world'\n",
      "\n",
      "----------------------------------------------------------------------\n",
      "Ran 1 test in 0.003s\n",
      "\n",
      "FAILED (failures=1)\n"
     ]
    }
   ],
   "source": [
    "import unittest\n",
    "\n",
    "def hello_world():\n",
    "    pass\n",
    "\n",
    "class MyFirstUnitTest(unittest.TestCase):\n",
    "    def test_hello_world(self):\n",
    "        self.assertEqual(hello_world(), 'hello world')\n",
    "        \n",
    "if __name__ == '__main__':\n",
    "    unittest.main(argv=['first-arg-is-ignored'], exit=False)"
   ]
  },
  {
   "attachments": {},
   "cell_type": "markdown",
   "metadata": {},
   "source": [
    "Now, of course the test should not fail but pass.\n",
    "This is what you will look into as an *exercise* - how to fix the code above.\n",
    "\n",
    "More on unit tests: https://docs.python.org/3/library/unittest.html"
   ]
  },
  {
   "cell_type": "markdown",
   "metadata": {},
   "source": [
    "## Important comment:\n",
    "\"Program testing can be used to show the presence of bugs, but never to show their absence\" (Edsger Dijkstra, 1970)"
   ]
  },
  {
   "attachments": {},
   "cell_type": "markdown",
   "metadata": {},
   "source": [
    "## Optimization & the need for speed\n",
    "\n",
    "Beware: \"We should forget about small efficiencies, say about 97% of the time: Premature optimization is the root of all evil.\" (Donald Knuth)\n",
    "\n",
    "But: When your programming is done (and you have tests (!)) you can optimize the \"hotspots\".\n",
    "\n",
    "How to speed up your code:\n",
    "* Compiling code:  Cython, an optimizing static compiler as well as a compiled language which generates Python modules that can be used by regular Python code.\n",
    "* Simple alternative: Numba, a Numpy-aware optimizing just-in-time compiler.\n",
    "\n",
    "### Numba\n",
    "Numba provides a Just-In-Time compiler for Python code. Just-in-time compilation refers to the process of compiling during execution rather than before-hand. It uses the LLVM infrastructure to compile Python code into machine code. \n",
    "Central to the use of Numba is the numba.jit decorator."
   ]
  },
  {
   "cell_type": "code",
   "execution_count": 15,
   "metadata": {},
   "outputs": [
    {
     "name": "stdout",
     "output_type": "stream",
     "text": [
      "CPU times: user 58.4 ms, sys: 2.66 ms, total: 61 ms\n",
      "Wall time: 60.7 ms\n"
     ]
    },
    {
     "data": {
      "text/plain": [
       "328328.5995161719"
      ]
     },
     "execution_count": 15,
     "metadata": {},
     "output_type": "execute_result"
    }
   ],
   "source": [
    "import numba\n",
    "\n",
    "@numba.jit\n",
    "def f(x):\n",
    "    return x**2-x\n",
    "\n",
    "def integrate_f(a, b, N):\n",
    "    s = 0\n",
    "    dx = (b-a)/N\n",
    "    for i in range(N):\n",
    "        s += f(a+i*dx)\n",
    "    return s * dx\n",
    "\n",
    "%time integrate_f(1, 100, 100000)"
   ]
  },
  {
   "cell_type": "code",
   "execution_count": 16,
   "metadata": {},
   "outputs": [
    {
     "name": "stdout",
     "output_type": "stream",
     "text": [
      "CPU times: user 115 µs, sys: 2 µs, total: 117 µs\n",
      "Wall time: 120 µs\n"
     ]
    },
    {
     "data": {
      "text/plain": [
       "328328.5995161719"
      ]
     },
     "execution_count": 16,
     "metadata": {},
     "output_type": "execute_result"
    }
   ],
   "source": [
    "import numba \n",
    "from numba import float64, int32\n",
    "\n",
    "@numba.jit\n",
    "def f(x):\n",
    "    return x**2-x\n",
    "\n",
    "@numba.jit(float64(float64, float64, int32))\n",
    "def integrate_f(a, b, N):\n",
    "    s = 0\n",
    "    dx = (b-a)/N\n",
    "    for i in range(N):\n",
    "        s += f(a+i*dx)\n",
    "    return s * dx\n",
    "\n",
    "%time integrate_f(1, 100, 100000)"
   ]
  },
  {
   "cell_type": "markdown",
   "metadata": {},
   "source": [
    "So, with the second (optimized) example, you should see a very large speed improvement (!) :-)"
   ]
  },
  {
   "cell_type": "code",
   "execution_count": null,
   "metadata": {},
   "outputs": [],
   "source": []
  }
 ],
 "metadata": {
  "kernelspec": {
   "display_name": "Python 3",
   "language": "python",
   "name": "python3"
  },
  "language_info": {
   "codemirror_mode": {
    "name": "ipython",
    "version": 3
   },
   "file_extension": ".py",
   "mimetype": "text/x-python",
   "name": "python",
   "nbconvert_exporter": "python",
   "pygments_lexer": "ipython3",
   "version": "3.7.4"
  }
 },
 "nbformat": 4,
 "nbformat_minor": 2
}
