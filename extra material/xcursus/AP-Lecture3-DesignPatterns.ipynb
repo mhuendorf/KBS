{
 "cells": [
  {
   "attachments": {},
   "cell_type": "markdown",
   "metadata": {},
   "source": [
    "## Back to OOP\n",
    "\n",
    "* Structure: Associate processing logic with record data (logic + data)\n",
    "* Encapsulation\n",
    "    * \"Wrap up details\" into methods\n",
    "    * Change method implementation as needed\n",
    "* Customization\n",
    "    * Extend classes by subclasses\n",
    "    * Change/extend behavior as needed\n",
    "    * Does not break existing code base"
   ]
  },
  {
   "attachments": {},
   "cell_type": "markdown",
   "metadata": {},
   "source": [
    "## What is a Design Pattern\n",
    "* A (Problem, Solution) pair\n",
    "* A technique to repeat designer success\n",
    "* Borrowed from Architecture, Civil and Electrical Engineering domains.\n",
    "\n",
    "* Why?\n",
    "    * More general code for better Reusability.\n",
    "    * Redundant code elimination for better Maintainability."
   ]
  },
  {
   "attachments": {},
   "cell_type": "markdown",
   "metadata": {},
   "source": [
    "## How are Patterns used?\n",
    "* Three parts\n",
    "    * Design/problem\n",
    "    * Solution\n",
    "    * Implementation details\n",
    "* Designer => Design <==> Implementation <= Programmer\n",
    "\n",
    "\n",
    "Gamma, E., Helm, R., Johnson, R., Vlissides, J.: Design patterns: elements of reusable object-oriented software. 1995."
   ]
  },
  {
   "attachments": {},
   "cell_type": "markdown",
   "metadata": {},
   "source": [
    "## Design Patterns you have already seen ...\n",
    "* Encapsulation (Data Hiding)\n",
    "* Subclassing (Inheritance)\n",
    "* Singleton"
   ]
  },
  {
   "attachments": {},
   "cell_type": "markdown",
   "metadata": {},
   "source": [
    "## Encapsulation pattern\n",
    "* Problem: Exposed fields are directly manipulated from outside, leading to undesirable dependences that prevent changing the implementation.\n",
    "\n",
    "* Solution: Hide some components, permitting only stylized access to the object."
   ]
  },
  {
   "attachments": {},
   "cell_type": "markdown",
   "metadata": {},
   "source": [
    "## Subclassing pattern\n",
    "* Problem\n",
    "    * Similar abstractions have similar members (fields and methods).\n",
    "    * Repeating these is tedious, error-prone, and a maintenance headache.\n",
    "\n",
    "* Solution\n",
    "    * Inherit default members from a superclass;\n",
    "    * select the correct implementation via run-time dispatching."
   ]
  },
  {
   "cell_type": "markdown",
   "metadata": {},
   "source": [
    "## Another Singleton"
   ]
  },
  {
   "cell_type": "code",
   "execution_count": null,
   "metadata": {},
   "outputs": [],
   "source": [
    "class Logger:\n",
    "    def __new__(cls, *args, **kwargs):\n",
    "        if not hasattr(cls, '_logger'):\n",
    "            cls._logger = super(Logger, cls).__new__(cls, *args, **kwargs)\n",
    "        return cls._logger"
   ]
  },
  {
   "cell_type": "code",
   "execution_count": null,
   "metadata": {},
   "outputs": [],
   "source": [
    "log0 = Logger()\n",
    "log1 = Logger()\n",
    "\n",
    "print(hex(id(log0)))\n",
    "print(hex(id(log1)))\n",
    "print(log0._logger)\n",
    "print(log1._logger)"
   ]
  },
  {
   "cell_type": "markdown",
   "metadata": {},
   "source": [
    "## Shared State"
   ]
  },
  {
   "cell_type": "code",
   "execution_count": 1,
   "metadata": {},
   "outputs": [
    {
     "name": "stdout",
     "output_type": "stream",
     "text": [
      "b1: Running\n",
      "b2: Running\n",
      "b1: Zombie\n",
      "b2: Zombie\n",
      "b1 id: 4525281104\n",
      "b2 id: 4525281040\n",
      "b1: init\n",
      "b2: init\n",
      "b3: init\n"
     ]
    }
   ],
   "source": [
    "class Borg:\n",
    "    __shared_state = {}\n",
    "    \n",
    "    def __init__(self):\n",
    "        self.__dict__ = self.__shared_state\n",
    "        self.state = 'init'\n",
    "        \n",
    "    def __str__(self):\n",
    "        return self.state\n",
    "    \n",
    "class AnotherBorg(Borg):\n",
    "    pass\n",
    "\n",
    "b1 = Borg()\n",
    "b2 = Borg()\n",
    "\n",
    "b1.state = 'Idle'\n",
    "b2.state = 'Running'\n",
    "\n",
    "print('b1: {0}'.format(b1))\n",
    "print('b2: {0}'.format(b2))\n",
    "\n",
    "b2.state = 'Zombie'\n",
    "\n",
    "print('b1: {0}'.format(b1))\n",
    "print('b2: {0}'.format(b2))\n",
    "\n",
    "print('b1 id: {0}'.format(id(b1)))\n",
    "print('b2 id: {0}'.format(id(b2)))\n",
    "\n",
    "\n",
    "b3 = AnotherBorg()\n",
    "\n",
    "print('b1: {0}'.format(b1))\n",
    "print('b2: {0}'.format(b2))\n",
    "print('b3: {0}'.format(b3))"
   ]
  },
  {
   "attachments": {},
   "cell_type": "markdown",
   "metadata": {},
   "source": [
    "## Exception pattern\n",
    "* Problem: Code is cluttered with error-handling code.\n",
    "\n",
    "* Solution:\n",
    "    * Errors occurring in one part of the code should often be handled elsewhere.\n",
    "    * Use language structures for throwing and catching exceptions."
   ]
  },
  {
   "cell_type": "code",
   "execution_count": null,
   "metadata": {},
   "outputs": [],
   "source": [
    "while True:\n",
    "    try:\n",
    "        x = int(input(\"Please enter a number: \"))\n",
    "        break\n",
    "    except ValueError:\n",
    "        print(\"Oops!  That was no valid number.  Try again...\")"
   ]
  },
  {
   "cell_type": "code",
   "execution_count": null,
   "metadata": {},
   "outputs": [],
   "source": [
    "class B(Exception):\n",
    "    pass\n",
    "\n",
    "class C(B):\n",
    "    pass\n",
    "\n",
    "class D(C):\n",
    "    pass\n",
    "\n",
    "for cls in [B, C, D]:\n",
    "    try:\n",
    "        raise cls()\n",
    "    except D:\n",
    "        print(\"D\")\n",
    "    except C:\n",
    "        print(\"C\")\n",
    "    except B:\n",
    "        print(\"B\")"
   ]
  },
  {
   "attachments": {},
   "cell_type": "markdown",
   "metadata": {},
   "source": [
    "## Pattern Categories\n",
    "* Creational Patterns: concern the process of object creation.\n",
    "* Structural Patterns: concern with integration and composition of classes and objects.\n",
    "* Behavioral Patterns: concerned with class or object communication"
   ]
  },
  {
   "attachments": {},
   "cell_type": "markdown",
   "metadata": {},
   "source": [
    "## Command Pattern\n",
    "* Decouples the requestor of an action from the object that performs the action\n",
    "* \"A Command object encapsulates a request to do something.\""
   ]
  },
  {
   "cell_type": "code",
   "execution_count": null,
   "metadata": {},
   "outputs": [],
   "source": [
    "import os\n",
    "\n",
    "class RenameFileCommand:\n",
    "    def __init__(self, from_name, to_name):\n",
    "        self._from = from_name\n",
    "        self._to = to_name\n",
    "        \n",
    "    def execute(self):\n",
    "        print(\"rename ...\")\n",
    "        # os.rename(self._from, self._to)\n",
    "        \n",
    "    def undo(self):\n",
    "        print(\"undo rename ...\")\n",
    "        #os.rename(self._to, self._from)\n",
    "        \n",
    "class History:\n",
    "    def __init__(self):\n",
    "        self._commands = list()\n",
    "        \n",
    "    def execute(self, command):\n",
    "        self._commands.append(command)\n",
    "        command.execute()\n",
    "        \n",
    "    def undo(self):\n",
    "        self._commands.pop().undo()\n",
    "        \n",
    "history = History()\n",
    "history.execute(RenameFileCommand('/bla.csv', '/blub.csv'))\n",
    "history.execute(RenameFileCommand('/foo.csv', '/bar.csv'))\n",
    "\n",
    "history.undo()\n",
    "history.undo()"
   ]
  },
  {
   "cell_type": "markdown",
   "metadata": {},
   "source": [
    "## Decorator"
   ]
  },
  {
   "cell_type": "code",
   "execution_count": null,
   "metadata": {},
   "outputs": [],
   "source": [
    "def simple_decorator(fun):\n",
    "    def wrap():\n",
    "        print(\"Decorating ...\")\n",
    "        fun()\n",
    "        print(\"After decorating ...\")\n",
    "    return wrap\n",
    "\n",
    "@simple_decorator\n",
    "def example():\n",
    "    print(\"This is an example ...\")\n",
    "    \n",
    "example()"
   ]
  },
  {
   "cell_type": "code",
   "execution_count": null,
   "metadata": {},
   "outputs": [],
   "source": [
    "class Text:\n",
    "    def __init__(self, text):\n",
    "        self._text = text\n",
    "        \n",
    "    def render(self):\n",
    "        return self._text\n",
    "    \n",
    "class BoldWrap(Text):\n",
    "    def __init__(self, wrap):\n",
    "        self._wrap = wrap\n",
    "        \n",
    "    def render(self):\n",
    "        return \"<b>{}</b>\".format(self._wrap.render())\n",
    "    \n",
    "class ItalicWrap(Text):\n",
    "    def __init__(self, wrap):\n",
    "        self._wrap = wrap\n",
    "        \n",
    "    def render(self):\n",
    "        return \"<i>{}</i>\".format(self._wrap.render())\n",
    "    \n",
    "hello_world = Text(\"Hello, World!\")\n",
    "wrapped_hello_world = ItalicWrap(BoldWrap(hello_world))\n",
    "\n",
    "print(hello_world.render())\n",
    "print(wrapped_hello_world.render())"
   ]
  },
  {
   "attachments": {},
   "cell_type": "markdown",
   "metadata": {},
   "source": [
    "## Facade Pattern\n",
    "* Provide a unified interface to a set of interfaces in a subsystem."
   ]
  },
  {
   "cell_type": "code",
   "execution_count": null,
   "metadata": {},
   "outputs": [],
   "source": [
    "class Tire:\n",
    "    def __init__(self, name, pressure = -1):\n",
    "        self.name = name\n",
    "        self.pressure = pressure\n",
    "\n",
    "class Tank:\n",
    "    def __init__(self, level = 0):\n",
    "        self.level = level\n",
    "\n",
    "class Car:\n",
    "    def __init__(self):\n",
    "        self._tires = [Tire('front_left'), Tire('front_right'), Tire('rear_left'), Tire('rear_right')]\n",
    "        self._tank = Tank(40)\n",
    "        \n",
    "    def tires_pressure(self):\n",
    "        return [tire.pressure for tire in self._tires]\n",
    "    \n",
    "    def fuel_level(self):\n",
    "        return self._tank.level\n",
    "    \n",
    "car = Car()\n",
    "print(car.tires_pressure())\n",
    "print(car.fuel_level())"
   ]
  },
  {
   "attachments": {},
   "cell_type": "markdown",
   "metadata": {},
   "source": [
    "## Iterator Pattern\n",
    "* Provides a way to access the elements of a container, e.g., list, set, etc., sequentially.\n",
    "* In Python: built-in (Syntax) => for loop ...\n",
    "* Dunder methods for implementing iteration protocol"
   ]
  },
  {
   "cell_type": "code",
   "execution_count": null,
   "metadata": {},
   "outputs": [],
   "source": [
    "class MyIterator:\n",
    "    def __init__(self, it):\n",
    "        self.it = it\n",
    "        \n",
    "    def __next__(self):\n",
    "        return(self.it.pop())\n",
    "    \n",
    "    def __iter__(self):\n",
    "        return self\n",
    "\n",
    "it = MyIterator([1, 2, 3])\n",
    "\n",
    "\n",
    "while True:\n",
    "    try:\n",
    "        i = it.__next__()\n",
    "    except IndexError:\n",
    "        break\n",
    "    else:\n",
    "        print(i)"
   ]
  },
  {
   "cell_type": "markdown",
   "metadata": {},
   "source": [
    "## How to implement an Iterable and Iterator"
   ]
  },
  {
   "cell_type": "code",
   "execution_count": null,
   "metadata": {},
   "outputs": [],
   "source": [
    "class OddNumbers:\n",
    "    \n",
    "    def __init__(self, max):\n",
    "        self.max = max\n",
    "        \n",
    "    def __iter__(self):\n",
    "        return OddIterator(self)\n",
    "\n",
    "    \n",
    "class OddIterator:\n",
    "    \n",
    "    def __init__(self, container):\n",
    "        self.container = container\n",
    "        self.n = -1\n",
    "        \n",
    "    def __next__(self):\n",
    "        self.n += 2\n",
    "        if (self.n > self.container.max):\n",
    "            raise StopIteration\n",
    "        return self.n\n",
    "    \n",
    "    def __iter__(self):\n",
    "        return self\n",
    "    \n",
    "for k in OddNumbers(5):\n",
    "    print(k)\n",
    "    \n"
   ]
  },
  {
   "attachments": {},
   "cell_type": "markdown",
   "metadata": {},
   "source": [
    "## Strategy Pattern\n",
    "* A Strategy defines a set of 'algorithms' that can be used interchangeably."
   ]
  },
  {
   "cell_type": "code",
   "execution_count": null,
   "metadata": {},
   "outputs": [],
   "source": [
    "import abc  # Python's built-in abstract class library\n",
    "\n",
    "class QuackStrategyAbstract(object):\n",
    "    \"\"\"You do not need to know about metaclasses.\n",
    "    You should just know that this is how you\n",
    "    define abstract classes in Python.\"\"\"\n",
    "    __metaclass__ = abc.ABCMeta\n",
    "\n",
    "    @abc.abstractmethod\n",
    "    def quack(self):\n",
    "        \"\"\"This is a required Method\"\"\"\n",
    "\n",
    "class LoudQuackStrategy(QuackStrategyAbstract):\n",
    "    def quack(self):\n",
    "        print(\"QUACK! QUACK!!\")\n",
    "\n",
    "class GentleQuackStrategy(QuackStrategyAbstract):\n",
    "    def quack(self):\n",
    "        print(\"quack!\")\n",
    "\n",
    "class LightStrategyAbstract(object):\n",
    "    __metaclass__ = abc.ABCMeta\n",
    "\n",
    "    @abc.abstractmethod\n",
    "    def lights_on(self):\n",
    "        \"\"\"This is a required Method\"\"\"\n",
    "\n",
    "class OnForTenSecondsStrategy(LightStrategyAbstract):\n",
    "    def lights_on(self):\n",
    "        print(\"Put lights on for 10 seconds\")\n",
    "        \n",
    "        \n",
    "\n",
    "        \n",
    "        \n",
    "        \n",
    "loud_quack = LoudQuackStrategy()\n",
    "gentle_quack = GentleQuackStrategy()\n",
    "ten_seconds = OnForTenSecondsStrategy()\n",
    "\n",
    "\n",
    "class Duck():\n",
    "    def __init__(self, quack_strategy, light_strategy):\n",
    "        self._quack_strategy = quack_strategy\n",
    "        self._light_strategy = light_strategy\n",
    "\n",
    "    def quack(self):\n",
    "        self._quack_strategy.quack()\n",
    "\n",
    "    def lights_on(self):\n",
    "        self._light_strategy.lights_on()\n",
    "\n",
    "# Types of Ducks\n",
    "class VillageDuck(Duck):\n",
    "    def __init__(self):\n",
    "        super(VillageDuck, self).__init__(loud_quack, None)\n",
    "\n",
    "    def go_home(self):\n",
    "        print(\"Going to the river\")\n",
    "\n",
    "class ToyDuck(Duck):\n",
    "    def __init__(self):\n",
    "        super(ToyDuck, self).__init__(gentle_quack, ten_seconds)\n",
    "\n",
    "class CityDuck(Duck):\n",
    "    def __init__(self):\n",
    "        super(CityDuck, self).__init__(gentle_quack, None)\n",
    "\n",
    "    def go_home(self):\n",
    "        print(\"Going to the Central Park pond\")\n",
    "\n",
    "class RobotDuck(Duck):\n",
    "    def __init__(self):\n",
    "        super(RobotDuck, self).__init__(loud_quack, ten_seconds)\n",
    "\n",
    "\n",
    "duck = ToyDuck()\n",
    "duck.quack()\n",
    "duck.lights_on()\n",
    "        \n",
    "# Note: Calling lights_on() on CityDuck or VillageDuck will result in an AttributeError\n",
    "robo = RobotDuck()\n",
    "\n",
    "robo.quack()  # QUACK! QUACK!!\n",
    "robo.lights_on()  # Lights on for 10 seconds"
   ]
  },
  {
   "cell_type": "code",
   "execution_count": null,
   "metadata": {},
   "outputs": [],
   "source": []
  }
 ],
 "metadata": {
  "kernelspec": {
   "display_name": "Python 3",
   "language": "python",
   "name": "python3"
  },
  "language_info": {
   "codemirror_mode": {
    "name": "ipython",
    "version": 3
   },
   "file_extension": ".py",
   "mimetype": "text/x-python",
   "name": "python",
   "nbconvert_exporter": "python",
   "pygments_lexer": "ipython3",
   "version": "3.7.4"
  }
 },
 "nbformat": 4,
 "nbformat_minor": 2
}
