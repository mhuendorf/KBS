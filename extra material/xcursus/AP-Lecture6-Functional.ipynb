{
 "cells": [
  {
   "cell_type": "markdown",
   "metadata": {},
   "source": [
    "### Functional programming in Python\n",
    "==> calling functions\n",
    "* Regular functions created with def\n",
    "* Anonymous functions created with lambda\n",
    "* Instances of a class which define a \\__call__ method\n",
    "* Closures returned by functions\n",
    "* Static methods of instances\n",
    "* Generator functions"
   ]
  },
  {
   "cell_type": "markdown",
   "metadata": {},
   "source": [
    "### Decoration and Delegation\n",
    "Functional programming using classes\n",
    "* Wrapping functions\n",
    "* Delegation"
   ]
  },
  {
   "cell_type": "markdown",
   "metadata": {},
   "source": [
    "### One more decorator example ..."
   ]
  },
  {
   "cell_type": "code",
   "execution_count": null,
   "metadata": {},
   "outputs": [],
   "source": [
    "from random import randint\n",
    "\n",
    "def with_retry(fun):\n",
    "    num=3\n",
    "    def retried(*args, **kwargs):\n",
    "        exception = None\n",
    "        for _ in range(num):\n",
    "            try:\n",
    "                return fun(*args, **kwargs)\n",
    "            except Exception as e:\n",
    "                print(\"Exception {} raised while calling {} with args: {}, kwargs: {}. Retrying\".format(e, fun, args, kwargs))\n",
    "                exception = e\n",
    "        raise exception\n",
    "    return retried\n",
    "\n",
    "@with_retry\n",
    "def blub():\n",
    "    rnd = randint(0,5)\n",
    "    print(rnd)\n",
    "    if rnd < 5:\n",
    "        raise Exception(\"Some exception occurred ...\")\n",
    "\n",
    "#blub = with_retry(blub)\n",
    "    \n",
    "blub()"
   ]
  },
  {
   "cell_type": "markdown",
   "metadata": {},
   "source": [
    "## More complex decorator with arguments"
   ]
  },
  {
   "cell_type": "code",
   "execution_count": null,
   "metadata": {},
   "outputs": [],
   "source": [
    "from random import randint\n",
    "\n",
    "def with_retry(num=3):\n",
    "    def wrap(fun):\n",
    "        def retried(*args, **kwargs):\n",
    "            exception = None\n",
    "            print(num)\n",
    "            for _ in range(num):\n",
    "                try:\n",
    "                    return fun(*args, **kwargs)\n",
    "                except Exception as e:\n",
    "                    print(\"Exception {} raised while calling {} with args: {}, kwargs: {}. Retrying\".format(e, fun, args, kwargs))\n",
    "                    exception = e\n",
    "            raise exception\n",
    "        return retried\n",
    "    return wrap\n",
    "\n",
    "@with_retry(100)\n",
    "def blub():\n",
    "    rnd = randint(0,5)\n",
    "    print(rnd)\n",
    "    if rnd < 5:\n",
    "        raise Exception(\"Some exception occurred ...\")\n",
    "        \n",
    "#blub = with_retry(100)(blub)    \n",
    "blub()\n",
    "\n",
    "\n"
   ]
  },
  {
   "cell_type": "markdown",
   "metadata": {},
   "source": [
    "## Now, implementation as a class."
   ]
  },
  {
   "cell_type": "code",
   "execution_count": null,
   "metadata": {},
   "outputs": [],
   "source": [
    "class decorating:\n",
    "    def __init__(self, f):\n",
    "        self.f = f\n",
    "        print(\"Decorating ... {}\".format(f))\n",
    "        \n",
    "    def __call__(self, *args, **kwargs):\n",
    "        return self.f(*args, **kwargs)\n",
    "    \n",
    "@decorating\n",
    "def foo(a, b):\n",
    "    print(a, b)\n",
    "    \n",
    "foo(1, 2)"
   ]
  },
  {
   "cell_type": "markdown",
   "metadata": {},
   "source": [
    "## Now, to something more complex ..."
   ]
  },
  {
   "cell_type": "code",
   "execution_count": null,
   "metadata": {},
   "outputs": [],
   "source": [
    "from random import randint\n",
    "\n",
    "class with_retry:\n",
    "    \n",
    "    def __init__(self, f):\n",
    "        self.fun = f\n",
    "        \n",
    "    def __call__(self, *args, **kwargs):\n",
    "        num=3\n",
    "        exception = None\n",
    "        for _ in range(num):\n",
    "            try:\n",
    "                return self.fun(*args, **kwargs)\n",
    "            except Exception as e:\n",
    "                print(\"Exception {} raised while calling {} with args: {}, kwargs: {}. Retrying\".format(e, self.fun, args, kwargs))\n",
    "                exception = e\n",
    "        raise exception\n",
    "\n",
    "@with_retry\n",
    "def blub():\n",
    "    rnd = randint(0,5)\n",
    "    print(rnd)\n",
    "    if rnd < 5:\n",
    "        raise Exception(\"Some exception occurred ...\")\n",
    "\n",
    "#blub = with_retry(blub)\n",
    "    \n",
    "blub()"
   ]
  },
  {
   "cell_type": "markdown",
   "metadata": {},
   "source": [
    "## Now, with arguments (looks a bit \"cleaner\" and simpler)"
   ]
  },
  {
   "cell_type": "code",
   "execution_count": null,
   "metadata": {},
   "outputs": [],
   "source": [
    "class with_retry:\n",
    "    \n",
    "    def __init__(self, num):\n",
    "        self.num = num\n",
    "        \n",
    "    def __call__(self, fun):\n",
    "        def retried(*args, **kwargs):\n",
    "            exception = None\n",
    "            for _ in range(self.num):\n",
    "                try:\n",
    "                    return fun(*args, **kwargs)\n",
    "                except Exception as e:\n",
    "                    print(\"Exception {} raised while calling {} with args: {}, kwargs: {}. Retrying\".format(e, fun, args, kwargs))\n",
    "                    exception = e\n",
    "            raise exception\n",
    "        return retried\n",
    "\n",
    "@with_retry(100)\n",
    "def blub():\n",
    "    rnd = randint(0,5)\n",
    "    print(rnd)\n",
    "    if rnd < 5:\n",
    "        raise Exception(\"Some exception occurred ...\")\n",
    "\n",
    "blub = with_retry(100)(blub)\n",
    "    \n",
    "blub()"
   ]
  },
  {
   "cell_type": "markdown",
   "metadata": {},
   "source": [
    "### Delegation\n",
    "An object of a class A which \"sends\" all calls to an object of class B ...\n",
    "\n",
    "Why is this useful?\n",
    "* \"Replace\" inheritance by composition (if A is some container of B, then it \"delegates\" all calls to the contained object)\n",
    "* Combine different objects into a larger object"
   ]
  },
  {
   "cell_type": "code",
   "execution_count": null,
   "metadata": {},
   "outputs": [],
   "source": [
    "class Delegator:\n",
    "    \n",
    "    def __init__(self, delegate):\n",
    "        self.delegate = delegate\n",
    "        \n",
    "    def __getattr__(self, name):\n",
    "        attr = getattr(self.delegate, name)\n",
    "        \n",
    "        if not callable(attr):\n",
    "            return attr\n",
    "        \n",
    "        def wrapper(*args, **kwargs):\n",
    "            return attr(*args, **kwargs)\n",
    "        return wrapper\n",
    "    \n",
    "    \n",
    "class Delegate:\n",
    "    def __init__(self):\n",
    "        self.example = 123\n",
    "        \n",
    "    def doit(self, it):\n",
    "        return \"Doing {}\".format(it)\n",
    "    \n",
    "delegator = Delegator(Delegate())\n",
    "\n",
    "print(delegator.example)\n",
    "delegator.doit(\"bla\")\n",
    "delegator.notimplemented(\"bar\")\n"
   ]
  },
  {
   "attachments": {},
   "cell_type": "markdown",
   "metadata": {},
   "source": [
    "### More functional tools\n",
    "* functools: reduce, many other useful functional programming tools!\n",
    "* itertools: Iteration ..."
   ]
  },
  {
   "cell_type": "code",
   "execution_count": null,
   "metadata": {},
   "outputs": [],
   "source": [
    "# partial function application (\"currying\")\n",
    "from functools import partial\n",
    "\n",
    "from operator import add\n",
    "\n",
    "def add1(x):\n",
    "    return add(1, x)\n",
    "\n",
    "print(add1(2))\n",
    "\n",
    "# could be written as\n",
    "\n",
    "add1 = partial(add, 1)\n",
    "\n",
    "add1(2)"
   ]
  },
  {
   "attachments": {},
   "cell_type": "markdown",
   "metadata": {},
   "source": [
    "## Reduce :-)\n",
    "\n",
    "\"So now reduce(). This is actually the one I've always hated most, because, apart from a few examples involving + or *, almost every time I see a reduce() call with a non-trivial function argument, I need to grab pen and paper to diagram what's actually being fed into that function before I understand what the reduce() is supposed to do. So in my mind, the applicability of reduce() is pretty much limited to associative operators, and in all other cases it's better to write out the accumulation loop explicitly.\"\n",
    "\n",
    "Guido van Rossum, 2005"
   ]
  },
  {
   "cell_type": "code",
   "execution_count": null,
   "metadata": {},
   "outputs": [],
   "source": [
    "from functools import reduce\n",
    "\n",
    "reduce(lambda x, y: x * y, range(1,10))"
   ]
  },
  {
   "cell_type": "code",
   "execution_count": null,
   "metadata": {},
   "outputs": [],
   "source": [
    "# Iterators\n",
    "\n",
    "xs = [1, 2, 3]\n",
    "\n",
    "it = iter(xs)\n",
    "\n",
    "print(next(it))\n",
    "print(next(it))\n",
    "print(next(it))\n",
    "# print(next(it))\n",
    "\n",
    "# ==> next, get next element, saves state"
   ]
  },
  {
   "cell_type": "code",
   "execution_count": null,
   "metadata": {},
   "outputs": [],
   "source": [
    "# Using generators\n",
    "\n",
    "def lazy_integers(n=0):\n",
    "    while True:\n",
    "        yield n\n",
    "        n += 1\n",
    "        \n",
    "xs = lazy_integers()\n",
    "\n",
    "print([next(xs) for _ in range(10)])\n",
    "\n",
    "# maintains state\n",
    "[next(xs) for _ in range(10)]\n"
   ]
  },
  {
   "cell_type": "code",
   "execution_count": null,
   "metadata": {},
   "outputs": [],
   "source": [
    "# Generator comprehensions\n",
    "\n",
    "# computes nothing until next or for (lazy computation)\n",
    "squares = (x**2 for x in lazy_integers())\n",
    "doubles = (2*x for x in lazy_integers())\n",
    "\n",
    "print(next(squares)) \n",
    "print(next(squares)) \n",
    "print(next(squares))\n",
    "\n",
    "# do not do this!!!:\n",
    "# bad_squares = [x**2 for x in lazy_integers()]\n"
   ]
  },
  {
   "cell_type": "code",
   "execution_count": null,
   "metadata": {},
   "outputs": [],
   "source": [
    "from itertools import count\n",
    "\n",
    "c = count(0, step=1)\n",
    "\n",
    "print(next(c))\n",
    "print(next(c))\n",
    "print(next(c))"
   ]
  },
  {
   "cell_type": "code",
   "execution_count": null,
   "metadata": {},
   "outputs": [],
   "source": [
    "from itertools import islice\n",
    "\n",
    "# islice(seq, [start=0], stop, [step=1])\n",
    "s = islice(range(0, 100000), 100, 200, 1)\n",
    "\n",
    "print(next(s))\n",
    "print(next(s))\n",
    "print(next(s))"
   ]
  },
  {
   "cell_type": "code",
   "execution_count": null,
   "metadata": {},
   "outputs": [],
   "source": [
    "from itertools import tee\n",
    "\n",
    "# tee(it, [n=2])\n",
    "# splits an iterator into two or more memoized copies\n",
    "# huge efficiency gains if you have to iterate through expensive computations multiple times\n",
    "\n",
    "print(list(tee(s, 2)[1]))\n"
   ]
  },
  {
   "cell_type": "code",
   "execution_count": null,
   "metadata": {},
   "outputs": [],
   "source": [
    "from itertools import repeat\n",
    "\n",
    "# repeat(elem, [n=forever])\n",
    "# repeats elem n times (or forever if no n)\n",
    "repeat(5, 1000)"
   ]
  },
  {
   "cell_type": "code",
   "execution_count": null,
   "metadata": {},
   "outputs": [],
   "source": [
    "from itertools import cycle\n",
    "\n",
    "# cycle(p)\n",
    "# repeats the elements of p over and over and over again forever\n",
    "\n",
    "c = cycle([1, 2, 3])\n",
    "for i in range(1, 10):\n",
    "    print(next(c))\n"
   ]
  },
  {
   "cell_type": "code",
   "execution_count": null,
   "metadata": {},
   "outputs": [],
   "source": [
    "from itertools import chain\n",
    "# chain(p, q, …)\n",
    "# iterates first through the elements of p, then the elements of q, and so on\n",
    "\n",
    "c = chain([1, 2, 3], [7, 8, 9])\n",
    "for i in range(1, 7):\n",
    "    print(next(c))\n"
   ]
  },
  {
   "cell_type": "code",
   "execution_count": null,
   "metadata": {},
   "outputs": [],
   "source": [
    "from itertools import accumulate\n",
    "\n",
    "# accumulate(p, [func=add])\n",
    "# returns the sequence a, where\n",
    "# a[0] = p[0]\n",
    "# a[1] = func(a[0], p[1])\n",
    "# a[2] = func(a[1], p[2])\n",
    "\n",
    "list(accumulate([1, 2, 3]))\n"
   ]
  },
  {
   "cell_type": "code",
   "execution_count": null,
   "metadata": {},
   "outputs": [],
   "source": [
    "# some more itertools\n",
    "\n",
    "# force the first n values of a sequence\n",
    "def take(n, it):\n",
    "    return [x for x in islice(it, n)]\n",
    "\n",
    "# new sequence with all but the first n values of a sequence\n",
    "def drop(n, it):\n",
    "    return islice(it, n, None)\n",
    "\n",
    "# force the first value of a sequence\n",
    "head = next\n",
    "\n",
    "# new sequence with all but the first value of a sequence\n",
    "tail = partial(drop, 1)\n",
    "\n"
   ]
  },
  {
   "cell_type": "code",
   "execution_count": null,
   "metadata": {},
   "outputs": [],
   "source": [
    "# Creating - iterate -\n",
    "# iterate(f, x)\n",
    "# should be the sequence x, f(x), f(f(x)), ...\n",
    "\n",
    "def iterate(f, x):\n",
    "    return accumulate(repeat(x), lambda fx, _: f(fx))\n",
    "\n"
   ]
  },
  {
   "cell_type": "code",
   "execution_count": null,
   "metadata": {},
   "outputs": [],
   "source": [
    "def lazy_integers():\n",
    "    return iterate(add1, 0)\n",
    "\n",
    "take(10, lazy_integers())"
   ]
  },
  {
   "cell_type": "markdown",
   "metadata": {},
   "source": [
    "### Now Fibonacci numbers"
   ]
  },
  {
   "cell_type": "code",
   "execution_count": null,
   "metadata": {},
   "outputs": [],
   "source": [
    "def fib(n):\n",
    "    if n == 0:\n",
    "        return 1\n",
    "    \n",
    "    if n == 1:\n",
    "        return 1\n",
    "    \n",
    "    return fib(n-1) + fib(n-2)\n",
    "\n",
    "print([fib(i) for i in range(10)])\n",
    "\n",
    "%time fib(30)\n",
    "# CPU times: user 293 ms, sys: 2.44 ms, total: 295 ms\n",
    "# Wall time: 294 ms"
   ]
  },
  {
   "cell_type": "code",
   "execution_count": null,
   "metadata": {},
   "outputs": [],
   "source": [
    "# also not efficient, really ...\n",
    "\n",
    "def fibs():\n",
    "    yield 1\n",
    "    yield 1\n",
    "    yield from map(add, fibs(), tail(fibs()))\n",
    "    \n",
    "take(10, fibs())\n",
    "\n",
    "%time take(30, fibs())\n",
    "#CPU times: user 7.38 s, sys: 439 ms, total: 7.82 s\n",
    "# Wall time: 7.83 s\n"
   ]
  },
  {
   "cell_type": "code",
   "execution_count": null,
   "metadata": {},
   "outputs": [],
   "source": [
    "# improved again\n",
    "\n",
    "def fibs():\n",
    "    yield 1\n",
    "    yield 1\n",
    "    fibs1, fibs2 = tee(fibs())\n",
    "    yield from map(add, fibs1, tail(fibs2))\n",
    "\n",
    "%time take(30, fibs())\n",
    "# CPU times: user 131 µs, sys: 39 µs, total: 170 µs\n",
    "# Wall time: 175 µs\n"
   ]
  },
  {
   "cell_type": "code",
   "execution_count": null,
   "metadata": {},
   "outputs": [],
   "source": [
    "def next_fib(pair):\n",
    "    x, y = pair\n",
    "    return (y, x + y)\n",
    "\n",
    "def fibs():\n",
    "    return (y for x, y in iterate(next_fib, (0, 1)))\n",
    "\n",
    "%time take(30, fibs())\n",
    "# CPU times: user 22 µs, sys: 0 ns, total: 22 µs\n",
    "# Wall time: 26 µs\n"
   ]
  },
  {
   "cell_type": "code",
   "execution_count": null,
   "metadata": {},
   "outputs": [],
   "source": []
  }
 ],
 "metadata": {
  "kernelspec": {
   "display_name": "Python 3",
   "language": "python",
   "name": "python3"
  },
  "language_info": {
   "codemirror_mode": {
    "name": "ipython",
    "version": 3
   },
   "file_extension": ".py",
   "mimetype": "text/x-python",
   "name": "python",
   "nbconvert_exporter": "python",
   "pygments_lexer": "ipython3",
   "version": "3.7.4"
  }
 },
 "nbformat": 4,
 "nbformat_minor": 2
}
