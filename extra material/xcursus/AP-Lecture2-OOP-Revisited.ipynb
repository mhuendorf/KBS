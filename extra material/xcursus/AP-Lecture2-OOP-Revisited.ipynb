{
 "cells": [
  {
   "cell_type": "markdown",
   "metadata": {},
   "source": [
    "# OOP, Singleton et al. - Revisited\n",
    "Last week, we looked at OOP basics, visibility of class and instance attributes, and finally the Singleton pattern.\n",
    "We will now inspect those in more detail ..."
   ]
  },
  {
   "cell_type": "code",
   "execution_count": null,
   "metadata": {},
   "outputs": [],
   "source": [
    "class Complex:\n",
    "    def __init__(self, real_part, imag_part):\n",
    "        self.real_part = real_part\n",
    "        self.imag_part = imag_part\n",
    "        \n",
    "    def __str__(self):\n",
    "        return str(self.real_part) + \", \" + str(self.imag_part)\n",
    "    \n",
    "c1 = Complex(3, -4.5)\n",
    "c2\n",
    "print(c1)\n",
    "print(c1.real_part)\n",
    "print(c1.imag_part)\n"
   ]
  },
  {
   "cell_type": "markdown",
   "metadata": {},
   "source": [
    "In Python, everything is an object ..."
   ]
  },
  {
   "cell_type": "code",
   "execution_count": null,
   "metadata": {},
   "outputs": [],
   "source": [
    "a = 5\n",
    "\n",
    "print(type(a))\n",
    "\n",
    "print(a.__class__)\n",
    "\n",
    "print(a.__class__.__bases__)\n",
    "\n",
    "print(object.__bases__)"
   ]
  },
  {
   "cell_type": "code",
   "execution_count": null,
   "metadata": {},
   "outputs": [],
   "source": [
    "print(type(a))\n",
    "\n",
    "print(type(int))\n",
    "\n",
    "print(type(float))\n",
    "\n",
    "print(type(dict))\n",
    "\n",
    "print(type(object))\n",
    "\n",
    "print(type.__bases__)\n",
    "\n",
    "print(type(type))\n"
   ]
  },
  {
   "cell_type": "markdown",
   "metadata": {},
   "source": [
    "For a (simplified) visualization, e.g.\n",
    "https://i.stack.imgur.com/33Zt8.png\n",
    "\n",
    "(and some more details, e.g. here: https://stackoverflow.com/questions/22921093/query-on-object-class-type-class-in-python)"
   ]
  },
  {
   "cell_type": "markdown",
   "metadata": {},
   "source": [
    "## Visibility - Part 1\n",
    "Now, let's look at some options in visibility ...\n",
    "\n",
    "Let's look at the \"_\" prefix:"
   ]
  },
  {
   "cell_type": "code",
   "execution_count": null,
   "metadata": {},
   "outputs": [],
   "source": [
    "class Complex:\n",
    "    def __init__(self, real_part, imag_part):\n",
    "        self._real_part = real_part\n",
    "        self._imag_part = imag_part\n",
    "    \n",
    "c1 = Complex(3, -4.5)\n",
    "print(c1)\n",
    "print(c1._real_part)\n",
    "print(c1._imag_part)"
   ]
  },
  {
   "cell_type": "markdown",
   "metadata": {},
   "source": [
    "## Visibility - Part 2\n",
    "\n",
    "The \"__\" prefix"
   ]
  },
  {
   "cell_type": "code",
   "execution_count": null,
   "metadata": {},
   "outputs": [],
   "source": [
    "class Complex:\n",
    "    def __init__(self, real_part, imag_part):\n",
    "        self.__real_part = real_part\n",
    "        self.__imag_part = imag_part\n",
    "    \n",
    "c1 = Complex(3, -4.5)\n",
    "print(c1)\n",
    "print(c1.__real_part)\n",
    "print(c1.__imag_part)"
   ]
  },
  {
   "cell_type": "markdown",
   "metadata": {},
   "source": [
    "# Question: Can we access the __xyz members?\n",
    "\n",
    "If so, how?"
   ]
  },
  {
   "cell_type": "code",
   "execution_count": null,
   "metadata": {},
   "outputs": [],
   "source": [
    "c1.__dict__"
   ]
  },
  {
   "cell_type": "code",
   "execution_count": null,
   "metadata": {},
   "outputs": [],
   "source": [
    "print(c1.__dict__[\"_Complex__real_part\"])\n",
    "print(c1.__dict__[\"_Complex__imag_part\"])"
   ]
  },
  {
   "cell_type": "markdown",
   "metadata": {},
   "source": [
    "# Classes vs. instances"
   ]
  },
  {
   "cell_type": "code",
   "execution_count": null,
   "metadata": {},
   "outputs": [],
   "source": [
    "class Complex:\n",
    "    __real_part = 0\n",
    "    __imag_part = 0\n",
    "    \n",
    "    def __init__(self, real_part, imag_part):\n",
    "        Complex.__real_part = real_part\n",
    "        Complex.__imag_part = imag_part\n",
    "        # print(__real_part)\n",
    "        # print(__imag_part)\n",
    "    \n",
    "    def __str__(self):\n",
    "        return \"(\" + str(self.__real_part) + \" ,\" + str(self.__imag_part) + \")\"\n",
    "    \n",
    "    def __eq__(self, other):\n",
    "        return self is other\n",
    "    \n",
    "c1 = Complex(2, 3)\n",
    "c2 = Complex(4, 5)\n",
    "\n",
    "print(c1)\n",
    "print(c2)"
   ]
  },
  {
   "cell_type": "code",
   "execution_count": null,
   "metadata": {},
   "outputs": [],
   "source": [
    "print(id(c1))\n",
    "print(id(c2))\n",
    "print(hex(id(c1)))\n",
    "print(hex(id(c2)))\n",
    "\n",
    "c3 = c1\n",
    "print(id(c3))\n",
    "print(c1 is c2)\n",
    "print(c1 is c3)\n",
    "print(c1 == c3)\n",
    "\n",
    "print(isinstance(c1, Complex))"
   ]
  },
  {
   "cell_type": "markdown",
   "metadata": {},
   "source": [
    "# Python Data Model\n",
    "https://docs.python.org/3/reference/datamodel.html"
   ]
  },
  {
   "cell_type": "code",
   "execution_count": null,
   "metadata": {},
   "outputs": [],
   "source": [
    "class Hashable:\n",
    "    \n",
    "    def __init__(self, firstname, lastname):\n",
    "        self.firstname = firstname\n",
    "        self.lastname = lastname\n",
    "        \n",
    "    def __eq__(self, other):\n",
    "        return self.firstname == other.firstname and self.lastname == other.lastname\n",
    "\n",
    "h1 = Hashable(\"Jean-Luc\", \"Picard\")\n",
    "h2 = Hashable(\"Kathryn\", \"Janeway\")\n",
    "h3 = Hashable(\"Jean-Luc\", \"Picard\")\n",
    "\n",
    "print(h1 is h2)\n",
    "print(h1 == h2)\n",
    "print(h1 is h3)\n",
    "print(h1 == h3)"
   ]
  },
  {
   "cell_type": "markdown",
   "metadata": {},
   "source": [
    "## __Eq__/__hash__ pecularities\n",
    "\n",
    "* \\_\\_eq__/\\_\\_hash__ \"contract\": 1) If two objects are equal (as checked by \\_\\_eq__), then they must have the same hash code (as produced by \\_\\_hash__). 2) If two objects have the same hash code, then they may or may not be equal.\n",
    "* This means: if x == y, then it must follow that hash(x) == hash(y).\n",
    "* Objects/attributes involved in computing the hash code should be immutable (!)\n",
    "\n",
    "For illustration, see e.g. https://hynek.me/articles/hashes-and-equality/"
   ]
  },
  {
   "cell_type": "code",
   "execution_count": null,
   "metadata": {},
   "outputs": [],
   "source": [
    "class clazz:\n",
    "    def __init__(self, x):\n",
    "        self.x = x\n",
    "        \n",
    "    def __repr__(self):\n",
    "        return f\"Clazz(X:{self.x})\"\n",
    "        \n",
    "    def __hash__(self):\n",
    "        return hash(self.x)\n",
    "\n",
    "    def __eq__(self, other):\n",
    "        return (\n",
    "             self.__class__ == other.__class__ and\n",
    "             self.x == other.x)\n",
    "        \n",
    "some_dict = dict()\n",
    "c1 = clazz(\"foo\")\n",
    "\n",
    "some_dict[c1] = \"foo\"\n",
    "print(repr(c1))\n",
    "\n",
    "c1.x = \"bar\"\n",
    "print(c1 in some_dict)\n",
    "\n",
    "c1.x = \"foo\"\n",
    "print(c1 in some_dict)\n",
    "\n",
    "\n",
    "print(repr(c1))"
   ]
  },
  {
   "cell_type": "markdown",
   "metadata": {},
   "source": [
    "# Inheritance and Multiple Inheritance"
   ]
  },
  {
   "cell_type": "code",
   "execution_count": null,
   "metadata": {},
   "outputs": [],
   "source": [
    "class foo:\n",
    "    def bla(self):\n",
    "        return 1\n",
    "        \n",
    "    def blub(self):\n",
    "        return self.bla() + 2\n",
    "    \n",
    "    def __getattribute__(self, attribute):\n",
    "        print(self)\n",
    "        print(attribute)\n",
    "        return super().__getattribute__(attribute)\n",
    "        \n",
    "class bar(foo):\n",
    "    def bla(self):\n",
    "        return 2\n",
    "    \n",
    "b1 = bar()\n",
    "\n",
    "print(b1.blub())"
   ]
  },
  {
   "cell_type": "code",
   "execution_count": null,
   "metadata": {},
   "outputs": [],
   "source": [
    "class baz(foo):\n",
    "    def bla(self):\n",
    "        return 3\n",
    "    \n",
    "class boo(baz, foo):\n",
    "    def bla(self):\n",
    "        return 4\n",
    "    \n",
    "b2 = boo()\n",
    "print(b2.blub())\n",
    "\n"
   ]
  },
  {
   "cell_type": "code",
   "execution_count": null,
   "metadata": {},
   "outputs": [],
   "source": [
    "boo.mro()"
   ]
  },
  {
   "cell_type": "markdown",
   "metadata": {},
   "source": [
    "# Method Resolution Order (mro)\n",
    "https://en.wikipedia.org/wiki/C3_linearization"
   ]
  },
  {
   "cell_type": "markdown",
   "metadata": {},
   "source": [
    "# Overriding & Python Magic (Dunder) Methods\n",
    "\n",
    "https://rszalski.github.io/magicmethods/"
   ]
  },
  {
   "cell_type": "code",
   "execution_count": null,
   "metadata": {},
   "outputs": [],
   "source": [
    "class SomeFunctionLike:\n",
    "    def __call__(self, val):\n",
    "        self.val = val\n",
    "    \n",
    "    def __str__(self):\n",
    "        return str(self.val)\n",
    "    \n",
    "s1 = SomeFunctionLike()\n",
    "s1(5)\n",
    "\n",
    "print(s1)\n",
    "\n",
    "s1(6)\n",
    "\n",
    "print(s1)\n"
   ]
  },
  {
   "cell_type": "markdown",
   "metadata": {},
   "source": [
    "# Setters/Getters"
   ]
  },
  {
   "cell_type": "code",
   "execution_count": null,
   "metadata": {},
   "outputs": [],
   "source": [
    "class Student:\n",
    "    def __init__(self, name, grades):\n",
    "        self.name = name\n",
    "        self.grades = grades\n",
    "        \n",
    "    def __str__(self):\n",
    "        return \"Student \" + str(self.name) + \" with grades: \" + str(self.grades)\n",
    "    \n",
    "s1 = Student(\"Hugo\", \"grades\")\n",
    "print(s1)\n",
    "\n",
    "s1.grades = [1, 2]\n",
    "print(s1)"
   ]
  },
  {
   "cell_type": "code",
   "execution_count": null,
   "metadata": {},
   "outputs": [],
   "source": [
    "class Student:\n",
    "    def __init__(self, name, grades):\n",
    "        self.name = name\n",
    "        self.grades = grades\n",
    "        \n",
    "    def __str__(self):\n",
    "        return \"Student \" + str(self.name) + \" with grades: \" + str(self.grades)\n",
    "    \n",
    "    @property\n",
    "    def grades(self):\n",
    "        return self.__grades\n",
    "    \n",
    "    @grades.setter\n",
    "    def grades(self, grades):\n",
    "        self.__grades = grades\n",
    "    \n",
    "    def __getattribute__(self, attribute):\n",
    "        print(repr(self))\n",
    "        print(repr(attribute))\n",
    "        return super().__getattribute__(attribute)\n",
    "    \n",
    "    \n",
    "s1 = Student(\"Hugo\", \"grades\")\n",
    "print(s1)\n",
    "\n",
    "s1.grades = [1, 2]\n",
    "print(s1)"
   ]
  },
  {
   "cell_type": "markdown",
   "metadata": {},
   "source": [
    "# Singleton ..."
   ]
  },
  {
   "cell_type": "code",
   "execution_count": null,
   "metadata": {},
   "outputs": [],
   "source": [
    "class OnlyOne:\n",
    "    class __OnlyOne:\n",
    "        def __init__(self, arg):\n",
    "            self.val = arg\n",
    "        def __str__(self):\n",
    "            return repr(self) + \" arg: \" + self.val\n",
    "        \n",
    "    instance = None\n",
    "    \n",
    "    def __init__(self, arg):\n",
    "        if not OnlyOne.instance:\n",
    "            # print(\"Creating the Singleton\")\n",
    "            OnlyOne.instance = OnlyOne.__OnlyOne(arg)\n",
    "        else:\n",
    "            # print(\"Modifying the Singleton\")\n",
    "            OnlyOne.instance.val = arg\n",
    "        \n",
    "    def  __str__(self):\n",
    "        return OnlyOne.instance.__str__()\n",
    "\n",
    "x = OnlyOne('sausage')\n",
    "print(x)\n",
    "\n",
    "y = OnlyOne('eggs')\n",
    "print(y)"
   ]
  },
  {
   "cell_type": "markdown",
   "metadata": {},
   "source": [
    "## Better:"
   ]
  },
  {
   "cell_type": "code",
   "execution_count": null,
   "metadata": {},
   "outputs": [],
   "source": [
    "class OnlyOne:\n",
    "    \n",
    "    instance = None\n",
    "\n",
    "    def __new__(cls, arg):        \n",
    "        if not OnlyOne.instance:\n",
    "            print(\"Creating the Singleton\")\n",
    "            OnlyOne.instance = super(OnlyOne, cls).__new__(cls)\n",
    "        return OnlyOne.instance\n",
    "       \n",
    "    def __init__(self, arg):\n",
    "        print(\"Modifying the Singleton\")\n",
    "        OnlyOne.instance.val = arg\n",
    "        \n",
    "    def __str__(self):\n",
    "        return repr(self) + \" arg: \" + self.val\n",
    "        \n",
    "x = OnlyOne('sausage')\n",
    "print(x)\n",
    "\n",
    "y = OnlyOne('eggs')\n",
    "print(y)"
   ]
  },
  {
   "cell_type": "markdown",
   "metadata": {},
   "source": [
    "# Using Metaclass\n",
    "\n",
    "This is a little bit more compact (and a bit more advanced) using metaclasses."
   ]
  },
  {
   "cell_type": "code",
   "execution_count": null,
   "metadata": {},
   "outputs": [],
   "source": [
    "class Singleton(type):\n",
    "    instance = None\n",
    "    def __call__(cls, *args, **kwargs):\n",
    "        if not cls.instance:\n",
    "            cls.instance = super(Singleton, cls).__call__(*args, **kwargs)\n",
    "        return cls.instance\n",
    "\n",
    "class ASingleton(metaclass=Singleton):\n",
    "    pass\n"
   ]
  },
  {
   "cell_type": "code",
   "execution_count": null,
   "metadata": {},
   "outputs": [],
   "source": [
    "a = ASingleton()\n",
    "b = ASingleton()\n",
    "\n",
    "print(a is b)\n",
    "\n",
    "print(hex(id(a)))\n",
    "print(hex(id(b)))"
   ]
  },
  {
   "cell_type": "markdown",
   "metadata": {},
   "source": [
    "# A Class with no \\_\\_dict__\n",
    "\n",
    "Useful for encapsulation"
   ]
  },
  {
   "cell_type": "code",
   "execution_count": null,
   "metadata": {},
   "outputs": [],
   "source": [
    "class NoDict:\n",
    "    __slots__ = '__value'\n",
    "    \n",
    "    def __init__(self):\n",
    "        self.__value = None\n",
    "    \n",
    "    @property\n",
    "    def value(self):\n",
    "        return self.__value\n",
    "    \n",
    "    @value.setter\n",
    "    def value(self, val):\n",
    "        self.__value = val        \n",
    "        "
   ]
  },
  {
   "cell_type": "code",
   "execution_count": null,
   "metadata": {},
   "outputs": [],
   "source": [
    "nod = NoDict()\n",
    "nod.value = 1\n",
    "print(nod.value)"
   ]
  },
  {
   "cell_type": "code",
   "execution_count": null,
   "metadata": {},
   "outputs": [],
   "source": [
    "nod.__slots__"
   ]
  },
  {
   "cell_type": "code",
   "execution_count": null,
   "metadata": {},
   "outputs": [],
   "source": [
    "type(nod.__slots__)"
   ]
  },
  {
   "cell_type": "code",
   "execution_count": null,
   "metadata": {},
   "outputs": [],
   "source": [
    "dir(nod)"
   ]
  },
  {
   "cell_type": "markdown",
   "metadata": {},
   "source": [
    "## Alternative: autoslot.py\n",
    "\n",
    "\n",
    "https://github.com/cjrh/autoslot"
   ]
  },
  {
   "cell_type": "code",
   "execution_count": null,
   "metadata": {},
   "outputs": [],
   "source": [
    "from autoslot import Slots\n",
    "\n",
    "class NoDictWithMeta(Slots):\n",
    "    \n",
    "    def __init__(self):\n",
    "        self.__value = None\n",
    "    \n",
    "    @property\n",
    "    def value(self):\n",
    "        return self.__value\n",
    "    \n",
    "    @value.setter\n",
    "    def value(self, val):\n",
    "        self.__value = val   "
   ]
  },
  {
   "cell_type": "code",
   "execution_count": null,
   "metadata": {},
   "outputs": [],
   "source": []
  }
 ],
 "metadata": {
  "kernelspec": {
   "display_name": "Python 3",
   "language": "python",
   "name": "python3"
  },
  "language_info": {
   "codemirror_mode": {
    "name": "ipython",
    "version": 3
   },
   "file_extension": ".py",
   "mimetype": "text/x-python",
   "name": "python",
   "nbconvert_exporter": "python",
   "pygments_lexer": "ipython3",
   "version": "3.7.4"
  }
 },
 "nbformat": 4,
 "nbformat_minor": 2
}
