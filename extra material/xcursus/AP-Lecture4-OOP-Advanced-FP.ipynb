{
 "cells": [
  {
   "cell_type": "markdown",
   "metadata": {},
   "source": [
    "# Advanced OOP"
   ]
  },
  {
   "cell_type": "markdown",
   "metadata": {},
   "source": [
    "### Excursus/Review: Usage of \\*args and \\**kwargs\n",
    "\\*args and \\**kwargs are mostly used in function definitions. These special constructs allow you to pass a variable number of arguments to a function. This means, that if you do not know beforehand how many arguments can be passed to a function by the user, then in this case you use these keywords.\n",
    "Specifically, \\*args is used to send a non-keyworded argument list to the function using a tuple, while \\**kwargs sends the keyworded arguments collected into a dictionary."
   ]
  },
  {
   "cell_type": "code",
   "execution_count": null,
   "metadata": {},
   "outputs": [],
   "source": [
    "def add(a, b, c, d):\n",
    "    print(\"Sum of a, b, c, d: \", a + b + c + d)\n",
    "    \n",
    "add(1, 2, 3, 4)"
   ]
  },
  {
   "cell_type": "code",
   "execution_count": null,
   "metadata": {},
   "outputs": [],
   "source": [
    "add(1, 2, 3, 4, 5)"
   ]
  },
  {
   "cell_type": "code",
   "execution_count": null,
   "metadata": {},
   "outputs": [],
   "source": [
    "def add2(*nums):\n",
    "    print(nums)\n",
    "    sum = 0\n",
    "    for num in nums:\n",
    "        sum = sum + num\n",
    "    \n",
    "    print(\"Sum of nums: \", sum)\n",
    "    \n",
    "add2(1, 2, 3, 4, 5)"
   ]
  },
  {
   "cell_type": "code",
   "execution_count": null,
   "metadata": {},
   "outputs": [],
   "source": [
    "def add3(*nums):\n",
    "    print(nums)\n",
    "    print(\"Sum of sums: \", sum(nums))\n",
    "    return sum(nums)\n",
    "    \n",
    "add3(1, 2, 3, 4, 5)"
   ]
  },
  {
   "cell_type": "markdown",
   "metadata": {},
   "source": [
    "What if we want to reuse our \"old\" add functions?"
   ]
  },
  {
   "cell_type": "code",
   "execution_count": null,
   "metadata": {},
   "outputs": [],
   "source": [
    "def add4(*nums):\n",
    "    print(nums)\n",
    "    print(\"Sum of sums: \", add3(*nums))\n",
    "    \n",
    "add4(1, 2, 3, 4, 5)\n",
    "\n",
    "(*(1, 2, 3, 4, 5),)"
   ]
  },
  {
   "cell_type": "markdown",
   "metadata": {},
   "source": [
    "In the example above - add3(*nums) \"splices\" in the nums-tuple, so that the individual arguments are provided to the function add3.\n",
    "\n",
    "We can also \"unpack\" a dictionary, as captured by \\**kwargs."
   ]
  },
  {
   "cell_type": "code",
   "execution_count": null,
   "metadata": {},
   "outputs": [],
   "source": [
    "d = {\"bar\" : \"foo\", \"baz\" : \"hugo\"}\n",
    "dict(**d)"
   ]
  },
  {
   "cell_type": "markdown",
   "metadata": {},
   "source": [
    "## \\**kwargs\n",
    "\n",
    "**kwargs works similarly to *args: It collects the keyword (variable length) into a dictionary, and provides that to our function ..."
   ]
  },
  {
   "cell_type": "code",
   "execution_count": null,
   "metadata": {},
   "outputs": [],
   "source": [
    "def data(**the_data):\n",
    "    print(\"Type of data: \", type(the_data))\n",
    "    \n",
    "    for key, value in the_data.items():\n",
    "        print(\"{} is {}\".format(key, value))\n",
    "        \n",
    "data(bla=\"blub\", foo=\"bar\", hugo=\"baz\")"
   ]
  },
  {
   "cell_type": "code",
   "execution_count": null,
   "metadata": {},
   "outputs": [],
   "source": [
    "def helper(**the_data):      \n",
    "    print(\"Invoking our (intermediate) helper function ...\")\n",
    "    print(the_data)\n",
    "    data(**the_data)\n",
    "    \n",
    "helper(bla=\"blub\", foo=\"bar\", hugo=\"baz\")"
   ]
  },
  {
   "cell_type": "code",
   "execution_count": null,
   "metadata": {},
   "outputs": [],
   "source": [
    "def data(**data):\n",
    "    if data is not None:\n",
    "        for key, value in data.items():\n",
    "            print(\"{} is {}\".format(key, value))\n",
    "        \n",
    "data(bla=\"blub\", foo=\"bar\", hugo=\"baz\")"
   ]
  },
  {
   "cell_type": "code",
   "execution_count": null,
   "metadata": {},
   "outputs": [],
   "source": [
    "class foo(object):\n",
    "    def bar(self, a, b, c = False):\n",
    "        if not c:\n",
    "            print(\"C is False\")\n",
    "        else:\n",
    "            print(\"C is True\")\n",
    "        pass\n",
    "\n",
    "class foo2(object):\n",
    "    def bar(self, a, b):\n",
    "        super().bar(a, b)\n",
    "        \n",
    "\n",
    "class baz(foo, foo2):\n",
    "    def bar(self, a, b, *args):\n",
    "        super().bar(a, b, *args)\n",
    "        \n",
    "foo().bar(1, 2, True)\n",
    "baz().bar(1, 2, True)"
   ]
  },
  {
   "cell_type": "markdown",
   "metadata": {},
   "source": [
    "### Now: A more Complex decorator\n",
    "As we have seen last week, decorators are a \"built-in\" design pattern in Python, using the \"@decorator\" syntax.\n",
    "\n",
    "Below, we will target the following: A decorator to memoize functions with an arbitrary set of arguments (that is, we cache/memoize the results of the function for specific arguments). Note that memoization is only possible if the arguments are hashable (e.g. using their \\__hash__() function). If our decorator wrapper is called with arguments which are not hashable, then the wrapped function should just be called without caching."
   ]
  },
  {
   "cell_type": "code",
   "execution_count": null,
   "metadata": {},
   "outputs": [],
   "source": [
    "def memoize(fun):\n",
    "    fun.cache = {}\n",
    "    def wrapper(*args, **kwargs):\n",
    "        key = (args, tuple(sorted(kwargs.items())))\n",
    "        try:\n",
    "            result = fun.cache[key]\n",
    "        except TypeError:\n",
    "            # key is unhashable\n",
    "            return fun(*args, **kwargs)\n",
    "        except KeyError:\n",
    "            # value is not (yet) present in our cache\n",
    "            result = fun.cache[key] = fun(*args, **kwargs)\n",
    "        return result\n",
    "    \n",
    "    return wrapper\n",
    "\n",
    "@memoize\n",
    "def oneplus(num):\n",
    "    print(\"Calculcating 1+\")\n",
    "    return 1 + num\n",
    "\n",
    "# oneplus = memoize(oneplus)\n",
    "\n",
    "#wrapped_oneplus=memoize(oneplus)\n",
    "\n",
    "oneplus(1)\n",
    "oneplus(1)\n",
    "\n",
    "\n"
   ]
  },
  {
   "cell_type": "markdown",
   "metadata": {},
   "source": [
    "* The function oneplus is provided to the memoize function\n",
    "* We create the dictionary in the oneplus function object (fun.cache dictionary)\n",
    "* We create the wrapper function, but it also has access to the oneplus function object\n",
    "* The memoize function returns the wrapper (and the wrapper still knows about the original oneplus function)\n",
    " * For the name oneplus, we replace the reference to the function object by the reference to the wrapper function object. This means, that if we call oneplus(), we are actually calling the wrapper ..."
   ]
  },
  {
   "cell_type": "markdown",
   "metadata": {},
   "source": [
    "## Functions as objects\n",
    "Functions are objects, i.e., instances of class \"function\".\n",
    "\n",
    "Therefore, also attributes can be added on the fly (see above)"
   ]
  },
  {
   "cell_type": "code",
   "execution_count": null,
   "metadata": {},
   "outputs": [],
   "source": [
    "print(type(oneplus))\n",
    "print(type(type(oneplus)))\n",
    "\n",
    "oneplus.cache\n",
    "oneplus.__dict__"
   ]
  },
  {
   "cell_type": "markdown",
   "metadata": {},
   "source": [
    "## Creating instances"
   ]
  },
  {
   "cell_type": "code",
   "execution_count": null,
   "metadata": {},
   "outputs": [],
   "source": [
    "import random\n",
    "\n",
    "class KindOfBadSingleton(object):\n",
    "    _inst = None\n",
    "    def __new__(cls):\n",
    "        print(\"__new__ {}\".format(cls))\n",
    "        if cls._inst is None:\n",
    "            cls._inst = super().__new__(cls)\n",
    "        return cls._inst\n",
    "    def __init__(self):\n",
    "        self.a = random.randrange(100)\n",
    "        print(\"__init__ {}:{}\".format(self, self.a))\n",
    "\n",
    "KindOfBadSingleton()\n",
    "KindOfBadSingleton()\n",
    "KindOfBadSingleton()\n",
    "\n",
    "KindOfBadSingleton\n"
   ]
  },
  {
   "cell_type": "markdown",
   "metadata": {},
   "source": [
    "## Constructing Classes\n",
    "\n",
    "We will look at this process - and see what is going on using a Metaclass.\n",
    "Note: Metaclass here inherit from type (!).\n",
    "\n",
    "(In principle, a metaclass could also be implemented using a function, but we will see this later ...)\n",
    "\n",
    "Class construction\n",
    "* \\__prepare__()\n",
    "* Execute class body\n",
    "* Type instantiation, i.e., instance construction\n",
    "\n",
    "\n",
    "Instance construction:\n",
    "* cls.\\__call__()\n",
    "* obj.\\__new__()\n",
    "* obj.\\__init__()\n",
    "\n",
    "* Be careful mixing \\__new__() and \\__init__() - see above\n",
    "* For the singleton, maybe cls.\\__call__() may be more appropriate\n",
    "\n",
    "\n"
   ]
  },
  {
   "cell_type": "code",
   "execution_count": null,
   "metadata": {},
   "outputs": [],
   "source": [
    "class PrintingMetaClass(type):\n",
    "    @classmethod\n",
    "    def __prepare__(mcls, name, bases, **kw):\n",
    "        print(\"__prepare__\", mcls, name, bases, kw)\n",
    "        return super().__prepare__(name, bases, **kw)\n",
    "    \n",
    "    def __new__(mcls, name, bases, dct, **kw):\n",
    "        print(\"__new__\", mcls, name, bases, dct, kw)\n",
    "        return super().__new__(mcls, name, bases, dct, **kw)\n",
    "    \n",
    "    def __init__(cls, name, bases, dct, **kw):\n",
    "        print(\"__init__\", cls, name, bases, dct, kw)\n",
    "        return super().__init__(name, bases, dct, **kw)\n",
    "    \n",
    "class Spam(metaclass=PrintingMetaClass):\n",
    "    print(\"Spam body\")\n",
    "    class Eggs(metaclass=PrintingMetaClass): pass"
   ]
  },
  {
   "cell_type": "code",
   "execution_count": null,
   "metadata": {},
   "outputs": [],
   "source": [
    "class MyIntArray(type):\n",
    "    def __getitem__(cls, index):\n",
    "        if isinstance(index, slice):\n",
    "            return list(map(MyInt, range(index.start, index.stop, index.step or 1)))\n",
    "        else:\n",
    "            return MyInt(index)\n",
    "\n",
    "class MyInt(int, metaclass=MyIntArray):\n",
    "    pass\n",
    "\n",
    "print(MyInt[3:5])\n",
    "\n",
    "print(MyInt(42))"
   ]
  },
  {
   "cell_type": "markdown",
   "metadata": {},
   "source": [
    "### Better Singleton - using \\__call__"
   ]
  },
  {
   "cell_type": "code",
   "execution_count": null,
   "metadata": {},
   "outputs": [],
   "source": [
    "class BetterSingleton(type):\n",
    "    _inst = None\n",
    "    def __call__(cls, *p, **kw):\n",
    "        if cls._inst is None:\n",
    "            cls._inst = super().__call__(*p, **kw)\n",
    "        return cls._inst\n",
    "    \n",
    "class BetterSingletonClass(metaclass=BetterSingleton):\n",
    "    def __init__(self):\n",
    "        print(\"__init__\", self)\n",
    "        \n",
    "b1 = BetterSingletonClass()\n",
    "b2 = BetterSingletonClass()"
   ]
  },
  {
   "cell_type": "markdown",
   "metadata": {},
   "source": [
    "# Outlook: Functional Programming\n",
    "* Functional programming - more abstract approach\n",
    "* Program seen as evaluations of mathematical functions\n",
    "* Functions as first-class objects\n",
    "* Support for higher-order functions\n",
    "* Recursion instead of loop constructs\n",
    "* Lists as basic data structures\n",
    "* Avoiding side effects (no shared state - immutable objects)\n"
   ]
  },
  {
   "cell_type": "code",
   "execution_count": null,
   "metadata": {},
   "outputs": [],
   "source": [
    "print(list(filter(lambda x: x % 2 == 0, range(1,10))))\n",
    "\n",
    "def test(x):\n",
    "    return x % 2 == 0\n",
    "\n",
    "print(list(filter(test, range(1,10))))"
   ]
  },
  {
   "cell_type": "markdown",
   "metadata": {},
   "source": [
    "### Lambda\n",
    "Defines an anonymous function\n",
    "* No multiline lambdas\n",
    "* Can be used instead of a function (see above)"
   ]
  },
  {
   "cell_type": "code",
   "execution_count": null,
   "metadata": {},
   "outputs": [],
   "source": [
    "(lambda x: print(x))(1)\n"
   ]
  }
 ],
 "metadata": {
  "kernelspec": {
   "display_name": "Python 3",
   "language": "python",
   "name": "python3"
  },
  "language_info": {
   "codemirror_mode": {
    "name": "ipython",
    "version": 3
   },
   "file_extension": ".py",
   "mimetype": "text/x-python",
   "name": "python",
   "nbconvert_exporter": "python",
   "pygments_lexer": "ipython3",
   "version": "3.7.4"
  }
 },
 "nbformat": 4,
 "nbformat_minor": 2
}
