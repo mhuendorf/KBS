{
 "cells": [
  {
   "cell_type": "markdown",
   "metadata": {},
   "source": [
    "### Method overriding and overloading\n",
    "* Overloading: we can use the same function name with different parameters\n",
    "* Overriding: we can use a function with the same name with the same parameters of the base class in the derived class.\n",
    "\n",
    "In Python: Overloading, and no *strict* overriding."
   ]
  },
  {
   "cell_type": "code",
   "execution_count": null,
   "metadata": {},
   "outputs": [],
   "source": [
    "class base:\n",
    "    def prin1(self, arg1, arg2):\n",
    "        print(arg1)\n",
    "        print(arg2)\n",
    "        \n",
    "class derived(base):\n",
    "    def prin1(self, arg1, *args, **kwargs):\n",
    "        print(arg1)\n",
    "        \n",
    "base().prin1(1, 2)\n",
    "#derived().prin1(1, 2)\n",
    "derived().prin1(1, 2)\n",
    "\n",
    "derived().prin(1, 2)\n"
   ]
  },
  {
   "cell_type": "markdown",
   "metadata": {},
   "source": [
    "### Liskov substitution principle\n",
    "\n",
    "https://en.wikipedia.org/wiki/Liskov_substitution_principle\n",
    "\n",
    "\"Substitutability is a principle in object-oriented programming stating that, in a computer program, if S is a subtype of T, then objects of type T may be replaced with objects of type S (i.e. an object of type T may be substituted with any object of a subtype S) without altering any of the desirable properties of the program.\"\n",
    "\n",
    "However, in python, correspondence of signatures is not enforced by the language (needs to be checked by external syntax checkers).\n",
    "\n",
    "Also:\n",
    "https://en.wikipedia.org/wiki/Circle%E2%80%93ellipse_problem\n",
    "\n",
    "Criteria:\n",
    "* \"Method signatures must match\"\n",
    "==> Methods must take the same parameters\n",
    "* \"The preconditions for any method cannot be greater than that of its parent\"\n",
    "==> Any inherited method should not have more conditionals that change the return of that method, such as throwing an Exception\n",
    "* \"Post conditions must be at least equal to that of its parent\"\n",
    "==> Inherited methods should return the same type as that of its parent\n",
    "* Exception types must match\n",
    "==> \"If a method is designed to return a specific exception in the event of an error, then the same condition in the inherited method must return this specific type, too.\"\n",
    "\n",
    "\n",
    "#### Further (additional) info, e.g., https://tech.webinterpret.com/solid-python-ignacy-sokolowski/"
   ]
  },
  {
   "cell_type": "code",
   "execution_count": null,
   "metadata": {},
   "outputs": [],
   "source": [
    "class bar:\n",
    "    def print(self, *args):\n",
    "        print(*args)\n",
    "    \n",
    "    # this redefines the method\n",
    "    def print(self):\n",
    "        print(\"foo\")\n",
    "        \n",
    "class baz(bar):\n",
    "    def print(self, *args, **kwargs):\n",
    "        print(*args, **kwargs)\n",
    "        \n",
    "#bar().print(2)\n",
    "\n",
    "#baz().print(1, 2, 3)\n",
    "\n",
    "def prin1(arg):\n",
    "    print(arg)\n",
    "    \n",
    "def prin1(arg):\n",
    "    print(\"bla\")\n",
    "    \n",
    "prin1(\"foo\")\n"
   ]
  },
  {
   "cell_type": "markdown",
   "metadata": {},
   "source": [
    "# Functional Programming\n",
    "* Functional programming - more abstract approach\n",
    "* Program seen as evaluations of mathematical functions\n",
    "* Functions as first-class objects\n",
    "* Support for higher-order functions\n",
    "* Recursion instead of loop constructs\n",
    "* Lists as basic data structures\n",
    "* Avoiding side effects (no shared state - immutable objects)\n"
   ]
  },
  {
   "cell_type": "code",
   "execution_count": null,
   "metadata": {},
   "outputs": [],
   "source": [
    "print(list(filter(lambda x: x % 2 == 0, range(1,10))))\n",
    "\n",
    "\n",
    "def test(x):\n",
    "    return x % 2 == 0\n",
    "\n",
    "print(list(filter(test, range(1,10))))\n",
    "\n",
    "f = filter(lambda x: x % 2 == 0, range(1,10))\n",
    "\n",
    "print(f)\n",
    "list(f)\n",
    "\n",
    "list(range(1, 10))"
   ]
  },
  {
   "cell_type": "markdown",
   "metadata": {},
   "source": [
    "### Lambda\n",
    "Defines an anonymous function\n",
    "* No multiline lambdas\n",
    "* Can be used instead of a function (see above)"
   ]
  },
  {
   "cell_type": "code",
   "execution_count": null,
   "metadata": {},
   "outputs": [],
   "source": [
    "print(lambda *x: print(x))\n",
    "\n",
    "f = (lambda *x: print(x))\n",
    "\n",
    "(lambda *x: print(x))(1, 2, 3)\n",
    "\n",
    "f(1, 2, 3)"
   ]
  },
  {
   "cell_type": "markdown",
   "metadata": {},
   "source": [
    "### \"No shared state\"?\n",
    "* Pure functions\n",
    "* Lazy evaluation possible\n",
    "* Optimizations\n",
    "* Concurrent processing (threads etc.)\n",
    "* Easier to test and debug\n",
    "Side effects - not eliminated but isolated"
   ]
  },
  {
   "cell_type": "markdown",
   "metadata": {},
   "source": [
    "### Python - is not a pure functional language\n",
    "... but it has some functional features\n",
    "\n",
    "Howto:\n",
    "https://docs.python.org/3/howto/functional.html "
   ]
  },
  {
   "cell_type": "code",
   "execution_count": null,
   "metadata": {},
   "outputs": [],
   "source": [
    "def square(x):\n",
    "    return x ** 2\n",
    "\n",
    "square = lambda x: x ** 2\n",
    "\n",
    "square(4)"
   ]
  },
  {
   "cell_type": "markdown",
   "metadata": {},
   "source": [
    "### Closures\n",
    "A closure is a function with bound variables."
   ]
  },
  {
   "cell_type": "code",
   "execution_count": null,
   "metadata": {},
   "outputs": [],
   "source": [
    "def build_taxer(rate):\n",
    "    def taxer(amount):\n",
    "        # print(rate)\n",
    "        return amount * (float(rate)) / 100\n",
    "    return taxer\n",
    "\n",
    "vat1 = build_taxer(19)\n",
    "print(vat1)\n",
    "vat2 = build_taxer(7)\n",
    "print(vat2)\n",
    "\n",
    "print(vat1(100))\n",
    "print(vat2(100))\n",
    "\n",
    "# check the __closure__ attribute\n",
    "\n",
    "print(vat1.__closure__)\n",
    "print(vat1.__closure__[0].cell_contents)\n",
    "print(vat2.__closure__)"
   ]
  },
  {
   "cell_type": "markdown",
   "metadata": {},
   "source": [
    "### When to use closures\n",
    "* Closures can avoid the use of global values.\n",
    "* Provide some form of data hiding.\n",
    "* Closures can somehow provide an object oriented solution for \"simple\" problems. For example, when there is one method to be implemented in a class, closures can provide a more elegant solutions. But when the number of attributes and methods get larger, you should better implement a class."
   ]
  },
  {
   "cell_type": "markdown",
   "metadata": {},
   "source": [
    "### Functional programming example: Computing prime numbers ..."
   ]
  },
  {
   "cell_type": "code",
   "execution_count": null,
   "metadata": {},
   "outputs": [],
   "source": [
    "# Caution: this is not functional (!)\n",
    "# for functional, see below\n",
    "\n",
    "def is_prime(n):\n",
    "    k = 2\n",
    "    while k < n:\n",
    "        if n % k == 0:\n",
    "            return False\n",
    "        k += 1\n",
    "    return True\n",
    "\n",
    "is_prime(10000000)\n",
    "\n",
    "is_prime(10000000000000000000000000000000000000000000000000000000000000000000000000000000000000000000000000000000)"
   ]
  },
  {
   "cell_type": "markdown",
   "metadata": {},
   "source": [
    "### Map, Filter, Reduce\n",
    "Higher order functions operating on lists/sequences"
   ]
  },
  {
   "cell_type": "code",
   "execution_count": null,
   "metadata": {},
   "outputs": [],
   "source": [
    "m = map(lambda x: x ** 2, range(1, 10))\n",
    "print(m)\n",
    "print(list(m))\n",
    "\n",
    "list(filter(lambda x: x%2 == 0, range(10)))"
   ]
  },
  {
   "cell_type": "code",
   "execution_count": null,
   "metadata": {},
   "outputs": [],
   "source": [
    "from functools import reduce\n",
    "\n",
    "reduce(lambda x, y: x + y, range(5))\n",
    "\n",
    "# (((1+2)+3)+4)"
   ]
  },
  {
   "cell_type": "markdown",
   "metadata": {},
   "source": [
    "### Why is map/reduce useful?\n",
    "* Can simplify complex loops\n",
    "* Can be chained\n",
    "* Many computations can be reduced to those (not only numeric ones)"
   ]
  },
  {
   "cell_type": "markdown",
   "metadata": {},
   "source": [
    "### Back to primes (now, functional, first attempt) ..."
   ]
  },
  {
   "cell_type": "code",
   "execution_count": null,
   "metadata": {},
   "outputs": [],
   "source": [
    "# this is functional (!)\n",
    "# but this is not good (!)\n",
    "# WHY? - look at the list created\n",
    "\n",
    "def is_prime(n):\n",
    "    return len(list(filter(lambda x: n % x == 0, range(2, n)))) == 0\n",
    "\n",
    "\n",
    "def primes(m):\n",
    "    return filter(is_prime, range(2, m))\n",
    "    \n",
    "list(primes(20))\n",
    "\n",
    "# if you try this - it will take very long\n",
    "# is_prime(10000000000000000000000000000000000000000000000000000000000000000000000000000000000000000000000000000000)\n"
   ]
  },
  {
   "cell_type": "markdown",
   "metadata": {},
   "source": [
    "### List Comprehensions can simplify sometimes\n",
    "* Can replace map and filter (and even lambda)\n",
    "* Simplifies complex chains"
   ]
  },
  {
   "cell_type": "code",
   "execution_count": null,
   "metadata": {},
   "outputs": [],
   "source": [
    "[i ** 2 for i in range(1, 10) if i % 2 == 0]"
   ]
  },
  {
   "cell_type": "code",
   "execution_count": 2,
   "metadata": {},
   "outputs": [
    {
     "data": {
      "text/plain": [
       "[1, 2, 3, 5, 7, 11]"
      ]
     },
     "execution_count": 2,
     "metadata": {},
     "output_type": "execute_result"
    }
   ],
   "source": [
    "def is_prime(n):\n",
    "    return True not in [n % k == 0 for k in range(2, n)]\n",
    "    \n",
    "def primes(m):\n",
    "    return [n for n in range(1, m) if is_prime(n)]\n",
    "    \n",
    "primes(13)"
   ]
  },
  {
   "cell_type": "markdown",
   "metadata": {},
   "source": [
    "### Any problems with efficiency?\n",
    "* Do we have to go through the whole list?\n",
    "\n",
    "## ==> Generators"
   ]
  },
  {
   "cell_type": "code",
   "execution_count": null,
   "metadata": {},
   "outputs": [],
   "source": [
    "def is_prime(n):\n",
    "    return True not in (n % k == 0 for k in range(2, n))\n",
    "\n",
    "is_prime(100000000)"
   ]
  },
  {
   "cell_type": "code",
   "execution_count": null,
   "metadata": {},
   "outputs": [],
   "source": [
    "any(range(1, 10))\n",
    "all(range(1, 10))"
   ]
  },
  {
   "cell_type": "code",
   "execution_count": null,
   "metadata": {},
   "outputs": [],
   "source": [
    "def is_prime(n):\n",
    "    return not any(n % k == 0 for k in range(2, n))\n",
    "\n",
    "is_prime(100000000)"
   ]
  },
  {
   "cell_type": "markdown",
   "metadata": {},
   "source": [
    "### Getting it functional again (and done right)"
   ]
  },
  {
   "cell_type": "code",
   "execution_count": null,
   "metadata": {},
   "outputs": [],
   "source": [
    "def is_prime(n):\n",
    "    return not any(filter(lambda x: n % x == 0, range(2, n)))\n",
    "\n",
    "is_prime(10000000000000000000000000000000000000000000000000000000000000000000000000000000000000000000000000000000)\n"
   ]
  },
  {
   "cell_type": "markdown",
   "metadata": {},
   "source": [
    "### More on comprehensions"
   ]
  },
  {
   "cell_type": "code",
   "execution_count": null,
   "metadata": {},
   "outputs": [],
   "source": [
    "primes = [2, 3, 5, 7]\n",
    "doubleprimes = [2*x for x in primes]\n",
    "\n",
    "doubleprimes = list()\n",
    "for x in primes:\n",
    "    doubleprimes.append(2*x)\n",
    "    \n",
    "combi = [(x, y) for x in range(10) for y in range(10) if x != y]\n",
    "\n",
    "matrix = [[1, 2, 3], [4, 5, 6], [7, 8, 9]]\n",
    "flatList = [no for row in matrix for no in row]\n",
    "\n",
    "nuc = ['A', 'T', 'C', 'G']\n",
    "codons = { x+y+z for x in nuc for y in nuc for z in nuc }\n",
    "\n",
    "myDict = {'a': 1, 'b': 2, 'c': 3}\n",
    "newDict = {value:key for key, value in myDict.items()}"
   ]
  },
  {
   "cell_type": "code",
   "execution_count": null,
   "metadata": {},
   "outputs": [],
   "source": []
  },
  {
   "cell_type": "markdown",
   "metadata": {},
   "source": [
    "### Functional programming in Python\n",
    "==> calling functions\n",
    "* Regular functions created with def\n",
    "* Anonymous functions created with lambda\n",
    "* Instances of a class which define a \\__call__ method\n",
    "* Closures returned by functions\n",
    "* Static methods of instances\n",
    "* Generator functions"
   ]
  },
  {
   "cell_type": "code",
   "execution_count": null,
   "metadata": {},
   "outputs": [],
   "source": []
  }
 ],
 "metadata": {
  "kernelspec": {
   "display_name": "Python 3",
   "language": "python",
   "name": "python3"
  },
  "language_info": {
   "codemirror_mode": {
    "name": "ipython",
    "version": 3
   },
   "file_extension": ".py",
   "mimetype": "text/x-python",
   "name": "python",
   "nbconvert_exporter": "python",
   "pygments_lexer": "ipython3",
   "version": "3.7.4"
  }
 },
 "nbformat": 4,
 "nbformat_minor": 2
}
