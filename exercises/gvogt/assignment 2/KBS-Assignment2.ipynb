{
 "cells": [
  {
   "cell_type": "markdown",
   "id": "f2fd2216",
   "metadata": {},
   "source": [
    "## Exercise 02.01: Simple Diagnostic Scores\n",
    "* (Again) Read the paper \"Martin Atzmueller, Joachim Baumeister, and Frank Puppe. Semi-Automatic Learning of Simple Diagnostic Scores utilizing Complexity Measures. Artificial Intelligence in Medicine, 37(1):19–30, 2006.\" (also discussed in the lecture): https://www.sciencedirect.com/science/article/pii/S0933365705000862\n",
    "* Build on the implemention (you can of course your implementation) of the data structure diagnostic profile - relating to the description in the paper.\n",
    "* From assignment 01: The class should have an (internal) method build which takes a dataframe, a list of diagnoses, and list of findings (in the form of the respective attributes) and constructs the according diagnostic profile object. You can, for example, implement this as a static method of the class, or use the respective instance method being called from the constructor of the class (for instantiating the object)\n",
    "* From assignment 01: For this class, also implement a method prune(...) which takes an integer for removing infrequent findings\n",
    "* Your class should contain a method learn(...) which learns the set of diagnostic scores (according to the method presented in the paper), respecting the given thresholds. Design the interface of your class/methods accordingly, e.g., such that the respective thresholds can be specified.\n",
    "* For this you should create a new class DiagnosticScore which captures the simple diagnostic score pattern (simple finding -> solution relation); use this for representing diagnostic scores\n",
    "* Test your implementation, via reading in and applying your implementation on this dataset: \n",
    "https://archive.ics.uci.edu/ml/datasets/Breast+Cancer\n",
    "* Here, you can consider the class attribute for the different diagnoses (i.e., consider the individual values of the class attribute as such).\n",
    "* Implement a method printScores() which prints the learned scores (for debugging/diagnostic purposes) in tabular format.\n",
    "* Also provide an according getter method for the learned set of diagnostic scores.\n",
    "* For the diagnostic profile class, create a method \"classify\" which takes a row of a dataframe (e.g., from the test dataset above) and outputs the most likely class according to the obtained diagnostic score values. Here, implement the aggregation of scores in such a way, that, for example, for S1, S2, S3 - S1 accounts for half of S2, S2 accounts for half of S3, and that any a score larger than S2 (larger -> \">\", not \">=\" (!)) \"establishes\" the specific class\n",
    "* Test your implementation - comparing the performance of the classification with the given class contained in the data, by printing out the \"classified solution\" and the \"correct solution/class\"."
   ]
  },
  {
   "cell_type": "code",
   "execution_count": 1,
   "id": "0347edee",
   "metadata": {},
   "outputs": [],
   "source": [
    "import numpy as np\n",
    "import pandas as pd\n",
    "\n",
    "# ... add here"
   ]
  },
  {
   "cell_type": "markdown",
   "id": "d8aab60b",
   "metadata": {},
   "source": [
    "## Exercise 02.02: Reading/Discussion/Summary\n",
    "* Read the paper \"Neural-Symbolic Computing: An Effective Methodology for Principled Integration of Machine Learning and Reasoning\", available here: https://arxiv.org/abs/1905.06088\n",
    "* Think about the following questions:\n",
    "** What is neuro-symbolic computing?\n",
    "** Which problems does it solve?\n",
    "** What are its advantages?\n",
    "** Are there any disadvantages?\n",
    "** What are specific challenges?\n",
    "** What are some exemplary techniques to apply?\n",
    "** How do they work?\n",
    "\n",
    "* Prepare answers for these questions for the practical session on November 2, 2021. You will first discuss these in groups, and then we will discuss them in the plenary meeting.\n",
    "* After that, summarize your findings (and those of the group discussion) in a small report (max. half a Din A4 page). For example, you could write 2-3 sentences for answering a specific question."
   ]
  },
  {
   "cell_type": "markdown",
   "id": "4c2c0dd4",
   "metadata": {},
   "source": []
  },
  {
   "cell_type": "markdown",
   "id": "4a597d69",
   "metadata": {},
   "source": [
    "## Exercise 02.03: Description Logics\n",
    "* Translate the example knowledge base given in KBS02 - slide 72 into first order predicate logic (see slide 71)\n",
    "* Apply the axioms and rule of inference on the resulting expressions, and provide all possible inferences for the given vocabulary.\n",
    "\n",
    "For providing this in the notebook, have a look here:\n",
    "* https://jupyter-notebook.readthedocs.io/en/stable/examples/Notebook/Working%20With%20Markdown%20Cells.html\n",
    "* https://towardsdatascience.com/write-markdown-latex-in-the-jupyter-notebook-10985edb91fd\n"
   ]
  },
  {
   "cell_type": "markdown",
   "id": "618325fc",
   "metadata": {},
   "source": [
    "## Exercise 02.04 Datalog\n",
    "\n",
    "* Below, we consider the problem of finding (strongly) connected components in a directed graph.\n",
    "For this, we can use the $edge(X, Y)$ predicate, such that this is true if there is an edge between nodes $X$ and $Y$. Let us assume we have a node and we want to find all the nodes that are in the same connected component as the given node. So, given a node $X$, find all those nodes $Y$ that are reachable from X and from which you can get back to X.\n",
    "\n",
    "$inSCC(X,Y)\\, :-  \\,\\, reachable(X,Z),\\, reachable(Z,Y).$\n",
    "\n",
    "$reachable(X,X).$\n",
    "\n",
    "$reachable(X,Y)\\, :-\\,\\, reachable(X,Z), edge(Z,Y).$\n",
    "\n",
    "* Then, for a given node $X$, this will find all nodes in the same strongly connected component as $X$. However, this solution is quite inefficient, since it will in general take $O(n*e)$ time, where $n$ is the number of nodes and $e$ is the number of edges.\n",
    "\n",
    "* However, we can provide a more efficient version, since this problem can be solved in $O(e)$ time. The core idea is, given a node $X$, find all nodes reachable from $X$ by following edges forward. Then, find all nodes reachable from $X$ by following edges backward (i.e., following edges against the arrow.) Finally, intersect those two sets. That will be the set of nodes in $X$'s strongly connected component, because if $Y$ is in both these sets, you can follow the edges forward from $X$ to $Y$ and then since there is also a backwards path from $X$ to $Y$, there is a forward path from $Y$ to $X$, so you can get from $X$ to $Y$ and back to $X$ following edges forward.\n",
    "\n",
    "* Provide a Datalog implementation (using a set of rules) of this optimized algorithm.\n",
    "* Provide a test case for your implementation, by specifying a small sample graph (let's say, with 10 nodes - where you create some edges there)\n",
    "* Test your implementation and test case, e.g., using\n",
    "** PyDatalog: https://sites.google.com/site/pydatalog/home\n",
    "or\n",
    "** AbcDatalog: https://abcdatalog.seas.harvard.edu/\n",
    "\n"
   ]
  },
  {
   "cell_type": "code",
   "execution_count": null,
   "id": "917cd237",
   "metadata": {},
   "outputs": [],
   "source": []
  }
 ],
 "metadata": {
  "kernelspec": {
   "display_name": "Python 3",
   "language": "python",
   "name": "python3"
  },
  "language_info": {
   "codemirror_mode": {
    "name": "ipython",
    "version": 3
   },
   "file_extension": ".py",
   "mimetype": "text/x-python",
   "name": "python",
   "nbconvert_exporter": "python",
   "pygments_lexer": "ipython3",
   "version": "3.8.8"
  }
 },
 "nbformat": 4,
 "nbformat_minor": 5
}
