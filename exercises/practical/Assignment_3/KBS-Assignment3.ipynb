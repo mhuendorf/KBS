{
 "cells": [
  {
   "cell_type": "markdown",
   "id": "8debce11",
   "metadata": {},
   "source": [
    "## Exercise 03.01: Scikit Learn, Interpretable Machine Learning\n",
    "\n",
    "\n",
    "Part 1: Learn about Scikit Learn (Machine Learning in Python, e.g.\n",
    "* https://scikit-learn.org/stable/tutorial/index.html\n",
    "* Video: http://videolectures.net/icml2010_varaquaux_scik/\n",
    "* Another alternative (*): https://www.youtube.com/watch?v=0Lt9w-BxKFQ\n",
    "\n",
    "Part 2: Learn about feature importance and SHAP\n",
    "* https://towardsdatascience.com/interpretable-machine-learning-models-aef0c7be3fd9\n",
    "* https://shap.readthedocs.io/en/latest/index.html\n",
    "* Video: https://www.youtube.com/watch?v=GzEgxFtHH4w\n",
    "\n",
    "Part 3: Apply Scikit Learn & SHAP\n",
    "* Use the heart disease dataset: https://www.kaggle.com/ronitf/heart-disease-uci\n",
    "* Apply preprocessing on the data as needed, see the (*) video, also provide some overview/visualization of the features \n",
    "* Build models using logistic regression, decision trees (C4.5), random forest, neural networks and evaluate them (accuracy, ROC/AUC)\n",
    "* For the evaluation, you can print some tables or use plots\n",
    "* Which are the important features of the model(s)? Use feature importance for the tree-based models. Are there any differences there?\n",
    "* Apply SHAP on all the models, and provide a view on the important features and their impact\n",
    "* Discuss (write some text!) about which model works best, and which is \"most interpretable\"."
   ]
  },
  {
   "cell_type": "code",
   "execution_count": 1,
   "id": "9dca1206",
   "metadata": {},
   "outputs": [],
   "source": [
    "import numpy as np\n",
    "import pandas as pd\n",
    "\n",
    "#required packages\n",
    "import seaborn as sns\n",
    "import matplotlib.pyplot as plt \n",
    "from sklearn.ensemble import RandomForestClassifier\n",
    "from sklearn.svm import SVC\n",
    "from sklearn import svm\n",
    "from sklearn.neural_network import MLPClassifier\n",
    "#from sklearn.linear_model import SGDClassifier\n",
    "from sklearn.metrics import confusion_matrix, classification_report\n",
    "from sklearn.preprocessing import StandardScaler, LabelEncoder\n",
    "from sklearn.model_selection import train_test_split\n",
    "%matplotlib inline\n",
    "\n",
    "# ... add here\n",
    "\n",
    "#Loading dataset\n",
    "heartData = pd.read_csv('./heart.csv',sep=',')\n",
    "heartDataDiscretised = pd.read_csv('./heart.csv',sep=',')\n",
    "#heartDataForPlots = pd.read_csv('./heart.csv',sep=',')\n",
    "\n",
    "#heartData.head()\n",
    "#heartData.info()\n",
    "#heartData.isnull().sum()\n",
    "\n",
    "#preprocessing Data\n"
   ]
  },
  {
   "cell_type": "code",
   "execution_count": 2,
   "id": "88c56680",
   "metadata": {},
   "outputs": [
    {
     "data": {
      "text/html": [
       "<div>\n",
       "<style scoped>\n",
       "    .dataframe tbody tr th:only-of-type {\n",
       "        vertical-align: middle;\n",
       "    }\n",
       "\n",
       "    .dataframe tbody tr th {\n",
       "        vertical-align: top;\n",
       "    }\n",
       "\n",
       "    .dataframe thead th {\n",
       "        text-align: right;\n",
       "    }\n",
       "</style>\n",
       "<table border=\"1\" class=\"dataframe\">\n",
       "  <thead>\n",
       "    <tr style=\"text-align: right;\">\n",
       "      <th></th>\n",
       "      <th>age</th>\n",
       "      <th>sex</th>\n",
       "      <th>cp</th>\n",
       "      <th>trestbps</th>\n",
       "      <th>chol</th>\n",
       "      <th>fbs</th>\n",
       "      <th>restecg</th>\n",
       "      <th>thalach</th>\n",
       "      <th>exang</th>\n",
       "      <th>oldpeak</th>\n",
       "      <th>slope</th>\n",
       "      <th>ca</th>\n",
       "      <th>thal</th>\n",
       "      <th>target</th>\n",
       "    </tr>\n",
       "  </thead>\n",
       "  <tbody>\n",
       "    <tr>\n",
       "      <th>0</th>\n",
       "      <td>63</td>\n",
       "      <td>1</td>\n",
       "      <td>3</td>\n",
       "      <td>145</td>\n",
       "      <td>233</td>\n",
       "      <td>1</td>\n",
       "      <td>0</td>\n",
       "      <td>150</td>\n",
       "      <td>0</td>\n",
       "      <td>2.3</td>\n",
       "      <td>0</td>\n",
       "      <td>0</td>\n",
       "      <td>1</td>\n",
       "      <td>1</td>\n",
       "    </tr>\n",
       "    <tr>\n",
       "      <th>1</th>\n",
       "      <td>37</td>\n",
       "      <td>1</td>\n",
       "      <td>2</td>\n",
       "      <td>130</td>\n",
       "      <td>250</td>\n",
       "      <td>0</td>\n",
       "      <td>1</td>\n",
       "      <td>187</td>\n",
       "      <td>0</td>\n",
       "      <td>3.5</td>\n",
       "      <td>0</td>\n",
       "      <td>0</td>\n",
       "      <td>2</td>\n",
       "      <td>1</td>\n",
       "    </tr>\n",
       "    <tr>\n",
       "      <th>2</th>\n",
       "      <td>41</td>\n",
       "      <td>0</td>\n",
       "      <td>1</td>\n",
       "      <td>130</td>\n",
       "      <td>204</td>\n",
       "      <td>0</td>\n",
       "      <td>0</td>\n",
       "      <td>172</td>\n",
       "      <td>0</td>\n",
       "      <td>1.4</td>\n",
       "      <td>2</td>\n",
       "      <td>0</td>\n",
       "      <td>2</td>\n",
       "      <td>1</td>\n",
       "    </tr>\n",
       "    <tr>\n",
       "      <th>3</th>\n",
       "      <td>56</td>\n",
       "      <td>1</td>\n",
       "      <td>1</td>\n",
       "      <td>120</td>\n",
       "      <td>236</td>\n",
       "      <td>0</td>\n",
       "      <td>1</td>\n",
       "      <td>178</td>\n",
       "      <td>0</td>\n",
       "      <td>0.8</td>\n",
       "      <td>2</td>\n",
       "      <td>0</td>\n",
       "      <td>2</td>\n",
       "      <td>1</td>\n",
       "    </tr>\n",
       "    <tr>\n",
       "      <th>4</th>\n",
       "      <td>57</td>\n",
       "      <td>0</td>\n",
       "      <td>0</td>\n",
       "      <td>120</td>\n",
       "      <td>354</td>\n",
       "      <td>0</td>\n",
       "      <td>1</td>\n",
       "      <td>163</td>\n",
       "      <td>1</td>\n",
       "      <td>0.6</td>\n",
       "      <td>2</td>\n",
       "      <td>0</td>\n",
       "      <td>2</td>\n",
       "      <td>1</td>\n",
       "    </tr>\n",
       "    <tr>\n",
       "      <th>...</th>\n",
       "      <td>...</td>\n",
       "      <td>...</td>\n",
       "      <td>...</td>\n",
       "      <td>...</td>\n",
       "      <td>...</td>\n",
       "      <td>...</td>\n",
       "      <td>...</td>\n",
       "      <td>...</td>\n",
       "      <td>...</td>\n",
       "      <td>...</td>\n",
       "      <td>...</td>\n",
       "      <td>...</td>\n",
       "      <td>...</td>\n",
       "      <td>...</td>\n",
       "    </tr>\n",
       "    <tr>\n",
       "      <th>95</th>\n",
       "      <td>53</td>\n",
       "      <td>1</td>\n",
       "      <td>0</td>\n",
       "      <td>142</td>\n",
       "      <td>226</td>\n",
       "      <td>0</td>\n",
       "      <td>0</td>\n",
       "      <td>111</td>\n",
       "      <td>1</td>\n",
       "      <td>0.0</td>\n",
       "      <td>2</td>\n",
       "      <td>0</td>\n",
       "      <td>3</td>\n",
       "      <td>1</td>\n",
       "    </tr>\n",
       "    <tr>\n",
       "      <th>96</th>\n",
       "      <td>62</td>\n",
       "      <td>0</td>\n",
       "      <td>0</td>\n",
       "      <td>140</td>\n",
       "      <td>394</td>\n",
       "      <td>0</td>\n",
       "      <td>0</td>\n",
       "      <td>157</td>\n",
       "      <td>0</td>\n",
       "      <td>1.2</td>\n",
       "      <td>1</td>\n",
       "      <td>0</td>\n",
       "      <td>2</td>\n",
       "      <td>1</td>\n",
       "    </tr>\n",
       "    <tr>\n",
       "      <th>97</th>\n",
       "      <td>52</td>\n",
       "      <td>1</td>\n",
       "      <td>0</td>\n",
       "      <td>108</td>\n",
       "      <td>233</td>\n",
       "      <td>1</td>\n",
       "      <td>1</td>\n",
       "      <td>147</td>\n",
       "      <td>0</td>\n",
       "      <td>0.1</td>\n",
       "      <td>2</td>\n",
       "      <td>3</td>\n",
       "      <td>3</td>\n",
       "      <td>1</td>\n",
       "    </tr>\n",
       "    <tr>\n",
       "      <th>98</th>\n",
       "      <td>43</td>\n",
       "      <td>1</td>\n",
       "      <td>2</td>\n",
       "      <td>130</td>\n",
       "      <td>315</td>\n",
       "      <td>0</td>\n",
       "      <td>1</td>\n",
       "      <td>162</td>\n",
       "      <td>0</td>\n",
       "      <td>1.9</td>\n",
       "      <td>2</td>\n",
       "      <td>1</td>\n",
       "      <td>2</td>\n",
       "      <td>1</td>\n",
       "    </tr>\n",
       "    <tr>\n",
       "      <th>99</th>\n",
       "      <td>53</td>\n",
       "      <td>1</td>\n",
       "      <td>2</td>\n",
       "      <td>130</td>\n",
       "      <td>246</td>\n",
       "      <td>1</td>\n",
       "      <td>0</td>\n",
       "      <td>173</td>\n",
       "      <td>0</td>\n",
       "      <td>0.0</td>\n",
       "      <td>2</td>\n",
       "      <td>3</td>\n",
       "      <td>2</td>\n",
       "      <td>1</td>\n",
       "    </tr>\n",
       "  </tbody>\n",
       "</table>\n",
       "<p>100 rows × 14 columns</p>\n",
       "</div>"
      ],
      "text/plain": [
       "    age  sex  cp  trestbps  chol  fbs  restecg  thalach  exang  oldpeak  \\\n",
       "0    63    1   3       145   233    1        0      150      0      2.3   \n",
       "1    37    1   2       130   250    0        1      187      0      3.5   \n",
       "2    41    0   1       130   204    0        0      172      0      1.4   \n",
       "3    56    1   1       120   236    0        1      178      0      0.8   \n",
       "4    57    0   0       120   354    0        1      163      1      0.6   \n",
       "..  ...  ...  ..       ...   ...  ...      ...      ...    ...      ...   \n",
       "95   53    1   0       142   226    0        0      111      1      0.0   \n",
       "96   62    0   0       140   394    0        0      157      0      1.2   \n",
       "97   52    1   0       108   233    1        1      147      0      0.1   \n",
       "98   43    1   2       130   315    0        1      162      0      1.9   \n",
       "99   53    1   2       130   246    1        0      173      0      0.0   \n",
       "\n",
       "    slope  ca  thal  target  \n",
       "0       0   0     1       1  \n",
       "1       0   0     2       1  \n",
       "2       2   0     2       1  \n",
       "3       2   0     2       1  \n",
       "4       2   0     2       1  \n",
       "..    ...  ..   ...     ...  \n",
       "95      2   0     3       1  \n",
       "96      1   0     2       1  \n",
       "97      2   3     3       1  \n",
       "98      2   1     2       1  \n",
       "99      2   3     2       1  \n",
       "\n",
       "[100 rows x 14 columns]"
      ]
     },
     "execution_count": 2,
     "metadata": {},
     "output_type": "execute_result"
    }
   ],
   "source": [
    "heartData.head(100)"
   ]
  },
  {
   "cell_type": "code",
   "execution_count": 3,
   "id": "db51565e",
   "metadata": {},
   "outputs": [
    {
     "data": {
      "image/png": "[encoded data removed]",
      "text/plain": [
       "<Figure size 432x288 with 1 Axes>"
      ]
     },
     "metadata": {
      "needs_background": "light"
     },
     "output_type": "display_data"
    }
   ],
   "source": [
    "#preprocessing\n",
    "bins = 2\n",
    "group_names = ['no_diagnosis','diagnosis']\n",
    "heartData['target'] = pd.cut(heartData['target'], bins = bins, labels = group_names)\n",
    "heartData['target'].unique()\n",
    "label_sex = LabelEncoder()\n",
    "heartData['target'] = label_sex.fit_transform(heartData['target'])\n",
    "\n",
    "bins = 10\n",
    "heartDataDiscretised['age'] = pd.cut(heartDataDiscretised['age'], bins = bins)\n",
    "#heartDataDiscretised['age'].unique()\n",
    "#label_age = LabelEncoder()\n",
    "#heartDataDiscretised['age'] = label_age.fit_transform(heartDataDiscretised['age'])\n",
    "\n",
    "plt.show(sns.countplot(x = heartDataDiscretised['age']))"
   ]
  },
  {
   "cell_type": "code",
   "execution_count": 4,
   "id": "c6979e96",
   "metadata": {},
   "outputs": [
    {
     "data": {
      "text/html": [
       "<div>\n",
       "<style scoped>\n",
       "    .dataframe tbody tr th:only-of-type {\n",
       "        vertical-align: middle;\n",
       "    }\n",
       "\n",
       "    .dataframe tbody tr th {\n",
       "        vertical-align: top;\n",
       "    }\n",
       "\n",
       "    .dataframe thead th {\n",
       "        text-align: right;\n",
       "    }\n",
       "</style>\n",
       "<table border=\"1\" class=\"dataframe\">\n",
       "  <thead>\n",
       "    <tr style=\"text-align: right;\">\n",
       "      <th></th>\n",
       "      <th>age</th>\n",
       "      <th>sex</th>\n",
       "      <th>cp</th>\n",
       "      <th>trestbps</th>\n",
       "      <th>chol</th>\n",
       "      <th>fbs</th>\n",
       "      <th>restecg</th>\n",
       "      <th>thalach</th>\n",
       "      <th>exang</th>\n",
       "      <th>oldpeak</th>\n",
       "      <th>slope</th>\n",
       "      <th>ca</th>\n",
       "      <th>thal</th>\n",
       "      <th>target</th>\n",
       "    </tr>\n",
       "  </thead>\n",
       "  <tbody>\n",
       "    <tr>\n",
       "      <th>0</th>\n",
       "      <td>63</td>\n",
       "      <td>1</td>\n",
       "      <td>3</td>\n",
       "      <td>145</td>\n",
       "      <td>233</td>\n",
       "      <td>1</td>\n",
       "      <td>0</td>\n",
       "      <td>150</td>\n",
       "      <td>0</td>\n",
       "      <td>2.3</td>\n",
       "      <td>0</td>\n",
       "      <td>0</td>\n",
       "      <td>1</td>\n",
       "      <td>0</td>\n",
       "    </tr>\n",
       "    <tr>\n",
       "      <th>1</th>\n",
       "      <td>37</td>\n",
       "      <td>1</td>\n",
       "      <td>2</td>\n",
       "      <td>130</td>\n",
       "      <td>250</td>\n",
       "      <td>0</td>\n",
       "      <td>1</td>\n",
       "      <td>187</td>\n",
       "      <td>0</td>\n",
       "      <td>3.5</td>\n",
       "      <td>0</td>\n",
       "      <td>0</td>\n",
       "      <td>2</td>\n",
       "      <td>0</td>\n",
       "    </tr>\n",
       "    <tr>\n",
       "      <th>2</th>\n",
       "      <td>41</td>\n",
       "      <td>0</td>\n",
       "      <td>1</td>\n",
       "      <td>130</td>\n",
       "      <td>204</td>\n",
       "      <td>0</td>\n",
       "      <td>0</td>\n",
       "      <td>172</td>\n",
       "      <td>0</td>\n",
       "      <td>1.4</td>\n",
       "      <td>2</td>\n",
       "      <td>0</td>\n",
       "      <td>2</td>\n",
       "      <td>0</td>\n",
       "    </tr>\n",
       "    <tr>\n",
       "      <th>3</th>\n",
       "      <td>56</td>\n",
       "      <td>1</td>\n",
       "      <td>1</td>\n",
       "      <td>120</td>\n",
       "      <td>236</td>\n",
       "      <td>0</td>\n",
       "      <td>1</td>\n",
       "      <td>178</td>\n",
       "      <td>0</td>\n",
       "      <td>0.8</td>\n",
       "      <td>2</td>\n",
       "      <td>0</td>\n",
       "      <td>2</td>\n",
       "      <td>0</td>\n",
       "    </tr>\n",
       "    <tr>\n",
       "      <th>4</th>\n",
       "      <td>57</td>\n",
       "      <td>0</td>\n",
       "      <td>0</td>\n",
       "      <td>120</td>\n",
       "      <td>354</td>\n",
       "      <td>0</td>\n",
       "      <td>1</td>\n",
       "      <td>163</td>\n",
       "      <td>1</td>\n",
       "      <td>0.6</td>\n",
       "      <td>2</td>\n",
       "      <td>0</td>\n",
       "      <td>2</td>\n",
       "      <td>0</td>\n",
       "    </tr>\n",
       "    <tr>\n",
       "      <th>5</th>\n",
       "      <td>57</td>\n",
       "      <td>1</td>\n",
       "      <td>0</td>\n",
       "      <td>140</td>\n",
       "      <td>192</td>\n",
       "      <td>0</td>\n",
       "      <td>1</td>\n",
       "      <td>148</td>\n",
       "      <td>0</td>\n",
       "      <td>0.4</td>\n",
       "      <td>1</td>\n",
       "      <td>0</td>\n",
       "      <td>1</td>\n",
       "      <td>0</td>\n",
       "    </tr>\n",
       "    <tr>\n",
       "      <th>6</th>\n",
       "      <td>56</td>\n",
       "      <td>0</td>\n",
       "      <td>1</td>\n",
       "      <td>140</td>\n",
       "      <td>294</td>\n",
       "      <td>0</td>\n",
       "      <td>0</td>\n",
       "      <td>153</td>\n",
       "      <td>0</td>\n",
       "      <td>1.3</td>\n",
       "      <td>1</td>\n",
       "      <td>0</td>\n",
       "      <td>2</td>\n",
       "      <td>0</td>\n",
       "    </tr>\n",
       "    <tr>\n",
       "      <th>7</th>\n",
       "      <td>44</td>\n",
       "      <td>1</td>\n",
       "      <td>1</td>\n",
       "      <td>120</td>\n",
       "      <td>263</td>\n",
       "      <td>0</td>\n",
       "      <td>1</td>\n",
       "      <td>173</td>\n",
       "      <td>0</td>\n",
       "      <td>0.0</td>\n",
       "      <td>2</td>\n",
       "      <td>0</td>\n",
       "      <td>3</td>\n",
       "      <td>0</td>\n",
       "    </tr>\n",
       "    <tr>\n",
       "      <th>8</th>\n",
       "      <td>52</td>\n",
       "      <td>1</td>\n",
       "      <td>2</td>\n",
       "      <td>172</td>\n",
       "      <td>199</td>\n",
       "      <td>1</td>\n",
       "      <td>1</td>\n",
       "      <td>162</td>\n",
       "      <td>0</td>\n",
       "      <td>0.5</td>\n",
       "      <td>2</td>\n",
       "      <td>0</td>\n",
       "      <td>3</td>\n",
       "      <td>0</td>\n",
       "    </tr>\n",
       "    <tr>\n",
       "      <th>9</th>\n",
       "      <td>57</td>\n",
       "      <td>1</td>\n",
       "      <td>2</td>\n",
       "      <td>150</td>\n",
       "      <td>168</td>\n",
       "      <td>0</td>\n",
       "      <td>1</td>\n",
       "      <td>174</td>\n",
       "      <td>0</td>\n",
       "      <td>1.6</td>\n",
       "      <td>2</td>\n",
       "      <td>0</td>\n",
       "      <td>2</td>\n",
       "      <td>0</td>\n",
       "    </tr>\n",
       "  </tbody>\n",
       "</table>\n",
       "</div>"
      ],
      "text/plain": [
       "   age  sex  cp  trestbps  chol  fbs  restecg  thalach  exang  oldpeak  slope  \\\n",
       "0   63    1   3       145   233    1        0      150      0      2.3      0   \n",
       "1   37    1   2       130   250    0        1      187      0      3.5      0   \n",
       "2   41    0   1       130   204    0        0      172      0      1.4      2   \n",
       "3   56    1   1       120   236    0        1      178      0      0.8      2   \n",
       "4   57    0   0       120   354    0        1      163      1      0.6      2   \n",
       "5   57    1   0       140   192    0        1      148      0      0.4      1   \n",
       "6   56    0   1       140   294    0        0      153      0      1.3      1   \n",
       "7   44    1   1       120   263    0        1      173      0      0.0      2   \n",
       "8   52    1   2       172   199    1        1      162      0      0.5      2   \n",
       "9   57    1   2       150   168    0        1      174      0      1.6      2   \n",
       "\n",
       "   ca  thal  target  \n",
       "0   0     1       0  \n",
       "1   0     2       0  \n",
       "2   0     2       0  \n",
       "3   0     2       0  \n",
       "4   0     2       0  \n",
       "5   0     1       0  \n",
       "6   0     2       0  \n",
       "7   0     3       0  \n",
       "8   0     3       0  \n",
       "9   0     2       0  "
      ]
     },
     "execution_count": 4,
     "metadata": {},
     "output_type": "execute_result"
    }
   ],
   "source": [
    "#Feature Overwview\n",
    "heartData.head(10)\n",
    "#heartData.isnull().sum()"
   ]
  },
  {
   "cell_type": "code",
   "execution_count": 5,
   "id": "3540bae4",
   "metadata": {},
   "outputs": [
    {
     "data": {
      "image/png": "[encoded data removed]",
      "text/plain": [
       "<Figure size 432x288 with 1 Axes>"
      ]
     },
     "metadata": {
      "needs_background": "light"
     },
     "output_type": "display_data"
    },
    {
     "data": {
      "image/png": "[encoded data removed]",
      "text/plain": [
       "<Figure size 432x288 with 1 Axes>"
      ]
     },
     "metadata": {
      "needs_background": "light"
     },
     "output_type": "display_data"
    },
    {
     "data": {
      "image/png": "[encoded data removed]",
      "text/plain": [
       "<Figure size 432x288 with 1 Axes>"
      ]
     },
     "metadata": {
      "needs_background": "light"
     },
     "output_type": "display_data"
    },
    {
     "data": {
      "image/png": "[encoded data removed]",
      "text/plain": [
       "<Figure size 432x288 with 1 Axes>"
      ]
     },
     "metadata": {
      "needs_background": "light"
     },
     "output_type": "display_data"
    },
    {
     "data": {
      "image/png": "[encoded data removed]",
      "text/plain": [
       "<Figure size 432x288 with 1 Axes>"
      ]
     },
     "metadata": {
      "needs_background": "light"
     },
     "output_type": "display_data"
    },
    {
     "data": {
      "image/png": "[encoded data removed]",
      "text/plain": [
       "<Figure size 432x288 with 1 Axes>"
      ]
     },
     "metadata": {
      "needs_background": "light"
     },
     "output_type": "display_data"
    },
    {
     "data": {
      "image/png": "[encoded data removed]",
      "text/plain": [
       "<Figure size 432x288 with 1 Axes>"
      ]
     },
     "metadata": {
      "needs_background": "light"
     },
     "output_type": "display_data"
    },
    {
     "data": {
      "image/png": "[encoded data removed]",
      "text/plain": [
       "<Figure size 432x288 with 1 Axes>"
      ]
     },
     "metadata": {
      "needs_background": "light"
     },
     "output_type": "display_data"
    },
    {
     "data": {
      "image/png": "[encoded data removed]",
      "text/plain": [
       "<Figure size 432x288 with 1 Axes>"
      ]
     },
     "metadata": {
      "needs_background": "light"
     },
     "output_type": "display_data"
    },
    {
     "data": {
      "image/png": "[encoded data removed]",
      "text/plain": [
       "<Figure size 432x288 with 1 Axes>"
      ]
     },
     "metadata": {
      "needs_background": "light"
     },
     "output_type": "display_data"
    },
    {
     "data": {
      "image/png": "[encoded data removed]",
      "text/plain": [
       "<Figure size 432x288 with 1 Axes>"
      ]
     },
     "metadata": {
      "needs_background": "light"
     },
     "output_type": "display_data"
    },
    {
     "data": {
      "image/png": "[encoded data removed]",
      "text/plain": [
       "<Figure size 432x288 with 1 Axes>"
      ]
     },
     "metadata": {
      "needs_background": "light"
     },
     "output_type": "display_data"
    },
    {
     "data": {
      "image/png": "[encoded data removed]",
      "text/plain": [
       "<Figure size 432x288 with 1 Axes>"
      ]
     },
     "metadata": {
      "needs_background": "light"
     },
     "output_type": "display_data"
    }
   ],
   "source": [
    "#Feature Visualization\n",
    "#plt.show(sns.countplot(x = heartData['age']))\n",
    "#hist, edges = np.histogram(heartData['age'], bins=np.arange(0,101,10))\n",
    "#plt.bar(edges[:-1], hist, align=\"edge\", ec=\"k\", width=np.diff(edges))\n",
    "#plt.title('age')\n",
    "#plt.show()\n",
    "\n",
    "plt.show(sns.countplot(x = heartData['sex']))\n",
    "plt.show(sns.countplot(x = heartData['cp']))\n",
    "#plt.show(sns.countplot(x = heartData['trestbps']))\n",
    "hist, edges = np.histogram(heartData['trestbps'], bins=np.arange(80,201,10))\n",
    "plt.bar(edges[:-1], hist, align=\"edge\", ec=\"k\", width=np.diff(edges))\n",
    "plt.title('trestbps')\n",
    "plt.show()\n",
    "\n",
    "#plt.show(sns.countplot(x = heartData['chol']))\n",
    "hist, edges = np.histogram(heartData['chol'], bins=np.arange(100,400,10))\n",
    "plt.bar(edges[:-1], hist, align=\"edge\", ec=\"k\", width=np.diff(edges))\n",
    "plt.title('chol')\n",
    "plt.show()\n",
    "\n",
    "plt.show(sns.countplot(x = heartData['fbs']))\n",
    "plt.show(sns.countplot(x = heartData['restecg']))\n",
    "#plt.show(sns.countplot(x = heartData['thalach']))\n",
    "hist, edges = np.histogram(heartData['thalach'], bins=np.arange(50,240,10))\n",
    "plt.bar(edges[:-1], hist, align=\"edge\", ec=\"k\", width=np.diff(edges))\n",
    "plt.title('thalach')\n",
    "plt.show()\n",
    "\n",
    "plt.show(sns.countplot(x = heartData['exang']))\n",
    "#plt.show(sns.countplot(x = heartData['oldpeak']))\n",
    "hist, edges = np.histogram(heartData['oldpeak'], bins=np.arange(0,8,0.5))\n",
    "plt.bar(edges[:-1], hist, align=\"edge\", ec=\"k\", width=np.diff(edges))\n",
    "plt.title('oldpeak')\n",
    "plt.show()\n",
    "\n",
    "plt.show(sns.countplot(x = heartData['slope']))\n",
    "plt.show(sns.countplot(x = heartData['ca']))\n",
    "plt.show(sns.countplot(x = heartData['thal']))\n",
    "plt.show(sns.countplot(x = heartData['target']))"
   ]
  },
  {
   "cell_type": "markdown",
   "id": "83bb2bc2",
   "metadata": {},
   "source": [
    "# Random Forest"
   ]
  },
  {
   "cell_type": "code",
   "execution_count": 6,
   "id": "e1628708",
   "metadata": {},
   "outputs": [],
   "source": [
    "#separate features and response variable\n",
    "X = heartData.drop('target', axis = 1) #all features without target\n",
    "y = heartData['target']\n",
    "\n",
    "#split into train and test data\n",
    "X_train, X_test, y_train, y_test = train_test_split(X,y,test_size =0.2, random_state=42)\n",
    "\n",
    "#standardscaling\n",
    "sc = StandardScaler()\n",
    "X_train = sc.fit_transform(X_train)\n",
    "X_test = sc.fit_transform(X_test)"
   ]
  },
  {
   "cell_type": "code",
   "execution_count": 7,
   "id": "bcf94535",
   "metadata": {},
   "outputs": [],
   "source": [
    "#Apply random forest model\n",
    "rfc = RandomForestClassifier(n_estimators = 200)\n",
    "rfc.fit(X_train, y_train)\n",
    "pred_rfc = rfc.predict(X_test)"
   ]
  },
  {
   "cell_type": "code",
   "execution_count": 8,
   "id": "0f568c40",
   "metadata": {},
   "outputs": [
    {
     "name": "stdout",
     "output_type": "stream",
     "text": [
      "Accuracy Score Random Forest:  0.8360655737704918\n",
      "ROC/AUC Score Random Forest:  0.834051724137931\n"
     ]
    }
   ],
   "source": [
    "#look at performance\n",
    "from sklearn.metrics import accuracy_score\n",
    "from sklearn.metrics import roc_auc_score\n",
    "cm = accuracy_score(y_test, pred_rfc)\n",
    "print('Accuracy Score Random Forest:  ' + str(cm))\n",
    "roc = roc_auc_score(y_test, pred_rfc, average=None)\n",
    "print('ROC/AUC Score Random Forest:  ' + str(roc))"
   ]
  },
  {
   "cell_type": "code",
   "execution_count": 9,
   "id": "df9e01dc",
   "metadata": {},
   "outputs": [],
   "source": [
    "modelnames = [None] * 4\n",
    "cml = [None] * 4\n",
    "rocl = [None] * 4\n",
    "\n",
    "modelnames[0] = \"rf\"\n",
    "cml[0] = cm\n",
    "rocl[0]= roc"
   ]
  },
  {
   "cell_type": "markdown",
   "id": "45914729",
   "metadata": {},
   "source": [
    "# SVM Classifier"
   ]
  },
  {
   "cell_type": "code",
   "execution_count": 10,
   "id": "fe673498",
   "metadata": {},
   "outputs": [],
   "source": [
    "clf = svm.SVC()\n",
    "clf.fit(X_train,y_train)\n",
    "pred_clf = clf.predict(X_test)"
   ]
  },
  {
   "cell_type": "code",
   "execution_count": 11,
   "id": "bec27422",
   "metadata": {},
   "outputs": [
    {
     "name": "stdout",
     "output_type": "stream",
     "text": [
      "Accuracy Score SVM:  0.8688524590163934\n",
      "ROC/AUC Score SVM:  0.8669181034482759\n"
     ]
    }
   ],
   "source": [
    "#look at performance \n",
    "cm = accuracy_score(y_test, pred_clf)\n",
    "print('Accuracy Score SVM:  ' + str(cm))\n",
    "roc = roc_auc_score(y_test, pred_clf, average=None)\n",
    "print('ROC/AUC Score SVM:  ' + str(roc))"
   ]
  },
  {
   "cell_type": "markdown",
   "id": "a9008124",
   "metadata": {},
   "source": [
    "# Neural Network"
   ]
  },
  {
   "cell_type": "code",
   "execution_count": 12,
   "id": "672c8fbf",
   "metadata": {},
   "outputs": [],
   "source": [
    "mlpc=MLPClassifier(hidden_layer_sizes=(11,11,11),max_iter=1000)\n",
    "mlpc.fit(X_train, y_train)\n",
    "pred_mlpc = mlpc.predict(X_test)"
   ]
  },
  {
   "cell_type": "code",
   "execution_count": 13,
   "id": "ea5784c9",
   "metadata": {},
   "outputs": [
    {
     "name": "stdout",
     "output_type": "stream",
     "text": [
      "Accuracy Score NN:  0.8524590163934426\n",
      "ROC/AUC Score NN:  0.8529094827586207\n"
     ]
    }
   ],
   "source": [
    "#look at performance \n",
    "cm = accuracy_score(y_test, pred_mlpc)\n",
    "print('Accuracy Score NN:  ' + str(cm))\n",
    "roc = roc_auc_score(y_test, pred_mlpc, average=None)\n",
    "print('ROC/AUC Score NN:  ' + str(roc))"
   ]
  },
  {
   "cell_type": "code",
   "execution_count": 14,
   "id": "844b427a",
   "metadata": {},
   "outputs": [],
   "source": [
    "modelnames[1] = \"nn\"\n",
    "cml[1] = cm\n",
    "rocl[1]= roc"
   ]
  },
  {
   "cell_type": "markdown",
   "id": "3382a6e9",
   "metadata": {},
   "source": [
    "# Decision Trees"
   ]
  },
  {
   "cell_type": "code",
   "execution_count": 15,
   "id": "e4e74d38",
   "metadata": {},
   "outputs": [],
   "source": [
    "from sklearn.tree import DecisionTreeClassifier\n",
    "dtc = DecisionTreeClassifier(random_state=0).fit(X_train, y_train)\n",
    "pred_dtc = dtc.predict(X_test)"
   ]
  },
  {
   "cell_type": "code",
   "execution_count": 16,
   "id": "4177f134",
   "metadata": {},
   "outputs": [
    {
     "name": "stdout",
     "output_type": "stream",
     "text": [
      "Accuracy Score Decision Trees:  0.7868852459016393\n",
      "ROC/AUC Score Decision Trees:  0.7904094827586207\n"
     ]
    }
   ],
   "source": [
    "#look at performance \n",
    "cm = accuracy_score(y_test, pred_dtc)\n",
    "print('Accuracy Score Decision Trees:  ' + str(cm))\n",
    "roc = roc_auc_score(y_test, pred_dtc, average=None)\n",
    "print('ROC/AUC Score Decision Trees:  ' + str(roc))"
   ]
  },
  {
   "cell_type": "code",
   "execution_count": 17,
   "id": "f8ec6a4b",
   "metadata": {},
   "outputs": [],
   "source": [
    "modelnames[2] = \"dt\"\n",
    "cml[2] = cm\n",
    "rocl[2]= roc"
   ]
  },
  {
   "cell_type": "markdown",
   "id": "8604fddd",
   "metadata": {},
   "source": [
    "# Logistic Regression"
   ]
  },
  {
   "cell_type": "code",
   "execution_count": 18,
   "id": "9470af60",
   "metadata": {},
   "outputs": [],
   "source": [
    "from sklearn.linear_model import LogisticRegression\n",
    "lgr = LogisticRegression(random_state=0).fit(X_train, y_train)\n",
    "pred_lgr = lgr.predict(X_test)"
   ]
  },
  {
   "cell_type": "code",
   "execution_count": 19,
   "id": "67c6eb6e",
   "metadata": {},
   "outputs": [
    {
     "name": "stdout",
     "output_type": "stream",
     "text": [
      "Accuracy Score NN:  0.8852459016393442\n",
      "ROC/AUC Score NN:  0.8841594827586207\n"
     ]
    }
   ],
   "source": [
    "#look at performance \n",
    "cm = accuracy_score(y_test, pred_lgr)\n",
    "print('Accuracy Score NN:  ' + str(cm))\n",
    "roc = roc_auc_score(y_test, pred_lgr, average=None)\n",
    "print('ROC/AUC Score NN:  ' + str(roc))"
   ]
  },
  {
   "cell_type": "code",
   "execution_count": 20,
   "id": "aaabbe0a",
   "metadata": {},
   "outputs": [],
   "source": [
    "modelnames[3] = \"lr\"\n",
    "cml[3] = cm\n",
    "rocl[3]= roc"
   ]
  },
  {
   "cell_type": "markdown",
   "id": "f1de781b",
   "metadata": {},
   "source": [
    "# Plots For Comparison"
   ]
  },
  {
   "cell_type": "code",
   "execution_count": 21,
   "id": "1a4032b3",
   "metadata": {},
   "outputs": [
    {
     "data": {
      "image/png": "[encoded data removed]",
      "text/plain": [
       "<Figure size 1008x576 with 1 Axes>"
      ]
     },
     "metadata": {
      "needs_background": "light"
     },
     "output_type": "display_data"
    }
   ],
   "source": [
    "# Plot the Accuracy Score\n",
    "\n",
    "plt.figure(figsize=(14, 8))\n",
    "ax = pd.Series(cml).plot(kind=\"bar\")\n",
    "ax.set_title(\"Accuracy Score\")\n",
    "ax.set_xlabel(\"Model\")\n",
    "ax.set_ylabel(\"Accuracy Score\")\n",
    "ax.set_xticklabels(modelnames)\n",
    "plt.ylim(0.77, 0.9)\n",
    "\n",
    "plt.show()"
   ]
  },
  {
   "cell_type": "code",
   "execution_count": 22,
   "id": "eee35510",
   "metadata": {},
   "outputs": [
    {
     "data": {
      "image/png": "[encoded data removed]",
      "text/plain": [
       "<Figure size 1008x576 with 1 Axes>"
      ]
     },
     "metadata": {
      "needs_background": "light"
     },
     "output_type": "display_data"
    }
   ],
   "source": [
    "# Plot the ROCAUC\n",
    "\n",
    "plt.figure(figsize=(14, 8))\n",
    "ax = pd.Series(rocl).plot(kind=\"bar\")\n",
    "ax.set_title(\"ROC/AUC Score\")\n",
    "ax.set_xlabel(\"Model\")\n",
    "ax.set_ylabel(\"ROC/AUC Score\")\n",
    "ax.set_xticklabels(modelnames)\n",
    "plt.ylim(0.77, 0.9)\n",
    "\n",
    "plt.show()"
   ]
  },
  {
   "cell_type": "code",
   "execution_count": null,
   "id": "35d19b02",
   "metadata": {},
   "outputs": [],
   "source": []
  },
  {
   "cell_type": "code",
   "execution_count": 25,
   "id": "53bd510d",
   "metadata": {},
   "outputs": [],
   "source": [
    "import shap\n",
    "\n",
    "# DF, based on which importance is checked\n",
    "X_importance = X_test\n",
    "X_importance2 = X_test\n",
    "\n",
    "# Explain model predictions for decision trees using shap library:\n",
    "explainer_dtc = shap.TreeExplainer(dtc)\n",
    "shap_values = explainer_dtc.shap_values(X_importance)\n",
    "\n",
    "#random forest \n",
    "explainer_rfc = shap.TreeExplainer(rfc.fit(X_train, y_train))\n",
    "shap_values2 = explainer_rfc.shap_values(X_importance2)"
   ]
  },
  {
   "cell_type": "code",
   "execution_count": 27,
   "id": "64e89021",
   "metadata": {},
   "outputs": [
    {
     "data": {
      "image/png": "[encoded data removed]",
      "text/plain": [
       "<Figure size 576x482.4 with 1 Axes>"
      ]
     },
     "metadata": {
      "needs_background": "light"
     },
     "output_type": "display_data"
    },
    {
     "data": {
      "image/png": "[encoded data removed]",
      "text/plain": [
       "<Figure size 576x482.4 with 1 Axes>"
      ]
     },
     "metadata": {
      "needs_background": "light"
     },
     "output_type": "display_data"
    }
   ],
   "source": [
    "# Plot summary_plot for dt as barplot:\n",
    "shap.summary_plot(shap_values, X_importance, plot_type='bar')\n",
    "\n",
    "# Plot summary_plot for rfc as barplot:\n",
    "shap.summary_plot(shap_values2, X_importance2, plot_type='bar')"
   ]
  },
  {
   "cell_type": "markdown",
   "id": "fb203856",
   "metadata": {},
   "source": [
    "## Exercise 03.02: Reading/Discussion/Summary\n",
    "\n",
    "Part 1: Reading:\n",
    "* Read the following paper: Rudin (2019) \"Stop explaining black box machine learning models for high stakes decisions and use interpretable models instead\"\n",
    "* The paper is available here: https://www.nature.com/articles/s42256-019-0048-x\n",
    "\n",
    "Part 2: Think about the following questions:\n",
    "* What is Explainable Machine Learning?\n",
    "* What are the features of Interpretable Machine Learning?\n",
    "* Why and when do we need both?\n",
    "* Are there any disadvantages?\n",
    "* What are specific challenges in their application?\n",
    "* Can, and if so, how, explainable and interpretable ML be implemented efficiently?\n",
    "* What are some exemplary techniques to apply?\n",
    "\n",
    "Part 3: Discussing, Summary\n",
    "* Prepare answers for these questions for the practical session on November 16, 2021. You will first discuss these in groups, and then we will discuss them in the plenary meeting.\n",
    "* After that, summarize your findings (and those of the group discussion) in a small report (max. half a Din A4 page). For example, you could write 2-3 sentences for answering a specific question."
   ]
  },
  {
   "cell_type": "markdown",
   "id": "70d53e2b",
   "metadata": {},
   "source": [
    "## Report\n",
    "Explainable machine Learning consists of two diffrent models. The first one is a black box, that ist just to complicated for humans to understand. The second one replicates most of the features of the original model, but represents the output in a way that makes it possible for humans to understand.\n",
    "\n",
    "Interpretable machine learning on the other hand is inherently explainable. Instead of an translation from the original model it is possible to just follow its reasoning.\n",
    "\n",
    "If you plan to develop a machine learning model for high-stakes decisions, for the final product an interpretable machine learning model should be used because the explanation of a explainable model may leaves out\n",
    "so much information that its decision makes no sense. A explainable machine Learning model still could be used for knowledge discovery.\n",
    "\n",
    "Interpretable models require significant effort to construct and are less attractive for companys due to their transparency. Black box models on the other hand can lead to false assumtions on the reasoning of the model. This can have a big impact if it is needed for humans to understand the decision.\n",
    "\n",
    "A challenge of interpretable models is, that interpretability is not always clearly defined, for example in computer vision. Also the construction of optimal interpretable models can be computational hard, so good optimization methods need to be found.\n",
    "\n",
    "These computational problems can be solved by leveraging a combination of theoretical and systems-level tech-\n",
    "niques. Logical Models can be accelerated by using special datastructures, search space reduction and fast exploration of search space. Interpretable neural networks are generally harder than normal neural networks tho and more research needs to be conducted.\n",
    "\n",
    "Some exemplary techniques to solves these computational hard problems is for example the CORELS algorithm\n",
    "it solves the minimization problem for computing a logical model. RiskSLIM is another technique to solve another type of minimization. It solves it using cutting planes for setting coefficients of a scoring system."
   ]
  },
  {
   "cell_type": "markdown",
   "id": "9fe30961",
   "metadata": {},
   "source": [
    "## Uploading your solution\n",
    "For uploading your solution, please upload two files:\n",
    "* The Jupyter-Notebook file (.ipynb)\n",
    "* A PDF (printout/file) of the Jupyter notebook file (.pdf)"
   ]
  },
  {
   "cell_type": "code",
   "execution_count": null,
   "id": "5bda5847",
   "metadata": {},
   "outputs": [],
   "source": []
  }
 ],
 "metadata": {
  "kernelspec": {
   "display_name": "Python 3 (ipykernel)",
   "language": "python",
   "name": "python3"
  },
  "language_info": {
   "codemirror_mode": {
    "name": "ipython",
    "version": 3
   },
   "file_extension": ".py",
   "mimetype": "text/x-python",
   "name": "python",
   "nbconvert_exporter": "python",
   "pygments_lexer": "ipython3",
   "version": "3.8.12"
  }
 },
 "nbformat": 4,
 "nbformat_minor": 5
}
