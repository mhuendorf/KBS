{
 "cells": [
  {
   "cell_type": "markdown",
   "id": "8debce11",
   "metadata": {},
   "source": [
    "## Exercise 04.01: Interpretable Machine Learning & Data Mining\n",
    "\n",
    "\n",
    "Part 1: Learn about Interpretable Decision Sets, and the pyIDS implementation\n",
    "* pyIDS: https://github.com/jirifilip/pyIDS\n",
    "* Further details about implementation: http://ceur-ws.org/Vol-2438/paper8.pdf\n",
    "* Original paper: https://cs.stanford.edu/people/jure/pubs/interpretable-kdd16.pdf\n",
    "\n",
    "Part 2: Learn about subgroup discovery - the pysubgroup implementation, respectively\n",
    "* pysubgroup: https://github.com/flemmerich/pysubgroup\n",
    "* Further details about implementation: https://link.springer.com/chapter/10.1007/978-3-030-10997-4_46\n",
    "\n",
    "Part 3: Apply pyIDS and pysubgroup\n",
    "* Use the heart disease dataset: https://www.kaggle.com/ronitf/heart-disease-uci\n",
    "* Apply preprocessing on the data as needed\n",
    "* Apply pyIDS, and generate a model regarding the class of the heart disease dataset.Visualize the model/print the \"final rules\"\n",
    "* Apply pysubgroup (with a suitable quality function, e.g., the ChiSquaredQF); for subgroup discovery, you might need to discretize numeric attributes; also, you might need a minimal support threshold (e.g., 5% of the instances); result is a list of the top-k (k=10, k=20) subgroups\n",
    "* Compare the results of pyIDS and pysubgroup. Which similarities and differences do you observe? (Write a short text about this, max half a Din A4 page)"
   ]
  },
  {
   "cell_type": "code",
   "execution_count": 1,
   "id": "9dca1206",
   "metadata": {},
   "outputs": [],
   "source": [
    "import numpy as np\n",
    "import pandas as pd\n",
    "\n",
    "# ... add here"
   ]
  },
  {
   "cell_type": "markdown",
   "id": "fb203856",
   "metadata": {},
   "source": [
    "## Exercise 04.02: Reading/Discussion/Summary\n",
    "\n",
    "Part 1: Reading:\n",
    "* Read the following paper: Zanin et al. (2016) \"Combining complex networks and data mining: why and how\"\n",
    "* The paper is available here: https://www.sciencedirect.com/science/article/pii/S037015731630062X   <br>\n",
    "  (It is also available in the \"files/exercises\" course folder)\n",
    "\n",
    "Part 2: Think about the following questions:\n",
    "* What are Complex Networks?\n",
    "* Why are they useful, in general?\n",
    "* What are specific challenges in their application?\n",
    "* What is their relationship to Data Mining, and how can Complex Networks and Data Mining be connected?\n",
    "* How do exemplary classification approaches work?\n",
    "* What are some further exemplary techniques to apply?\n",
    "\n",
    "Part 3: Discussing, Summary\n",
    "* Prepare answers for these questions for the practical session on November 30, 2021. You will first discuss these in groups, and then we will discuss them in the plenary meeting.\n",
    "* After that, summarize your findings (and those of the group discussion) in a small report (max. half a Din A4 page). For example, you could write 2-3 sentences for answering a specific question."
   ]
  },
  {
   "cell_type": "markdown",
   "id": "bffb11df",
   "metadata": {},
   "source": [
    "# Report \n",
    "\n",
    "\n",
    "## What are Complex Networks?\n",
    "\n",
    "Complex Networks are Network representations of real world systems, which can encompass further metrics, topologies and even further layers, types of links or other additional features. Their goal is to represent systems in a way that makes it easier to analyse understand these systems. \n",
    "\n",
    "## Why are they useful, in general?\n",
    "\n",
    "They are useful because the complexity of some systems can be too great for them to be easily analysed with data mining algorithms or represented by simpler models. The additional features and structure elements of complex systems therefore help with analysing certain systems or making them more understandable to humans. \n",
    "\n",
    "## What are specific challenges in their application?\n",
    "\n",
    "The challenges of applying complex networks include finding relevant features/data, in order to focus on the important parts of systems and reducing the necessary computational power of the analysis. Another challenge is to find the right metrics and to construct the network in such a way, that the system is properly represented. This is even more relevant for functional networks, where the functions have to be choosen correctly aswell. \n",
    "\n",
    "## What is their relationship to Data Mining, and how can Complex Networks and Data Mining be connected?\n",
    "\n",
    "Both data mining and complex networks share similar goals of making systems more understandable and being useful for anlaysing them. Complex Networks are more useful to represent structures and relations between certain elements, whereas data mining algorithms focus more on finding patterns and showing relations between certain features. Complex networks can be used for feature selection for data mining algorithms and there are other useful ways in which they can be combined.\n",
    "\n",
    "## How do exemplary classification approaches work?\n",
    "\n",
    "One approach is multiple kernel learning, which shows which parts of a network are most relevant for a certain classification. Another approach is to build a complex network based on an instance and use normal data mining algorithms like SVM to classify the created complex network. \n",
    "\n",
    "## What are some further exemplary techniques to apply?\n",
    "\n",
    "Further techniques are for example link prediction, where Data Mining Algorithms are used to predict which links exist in complex networks, also taking into account their topology. Another technique is to represent features in a Complex Network, which then can be used to find the most important features, which solves the problem of feature selection for Data Mining Algorithms. A further technique is to transform big and heterogenous amounts of data into a complex network structure, this simplifies the data and makes them more homogenous and therefore makes it possible to use them for Data Mining more efficiently. \n"
   ]
  },
  {
   "cell_type": "markdown",
   "id": "9fe30961",
   "metadata": {},
   "source": [
    "## Uploading your solution\n",
    "For uploading your solution, please upload two files:\n",
    "* The Jupyter-Notebook file (.ipynb)\n",
    "* A PDF (printout/file) of the Jupyter notebook file (.pdf)\n",
    "* IMPORTANT: Please add your name (Example: MartinAtzmueller), as a suffix to the file names, e.g.:<br>\n",
    "  KBS-Assigment4_MartinAtzmueller.ipynb, KBS-Assignment4_MartinAtzmueller.pdf"
   ]
  },
  {
   "cell_type": "code",
   "execution_count": null,
   "id": "5bda5847",
   "metadata": {},
   "outputs": [],
   "source": []
  }
 ],
 "metadata": {
  "kernelspec": {
   "display_name": "Python 3 (ipykernel)",
   "language": "python",
   "name": "python3"
  },
  "language_info": {
   "codemirror_mode": {
    "name": "ipython",
    "version": 3
   },
   "file_extension": ".py",
   "mimetype": "text/x-python",
   "name": "python",
   "nbconvert_exporter": "python",
   "pygments_lexer": "ipython3",
   "version": "3.8.12"
  }
 },
 "nbformat": 4,
 "nbformat_minor": 5
}
