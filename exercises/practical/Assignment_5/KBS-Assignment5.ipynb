{
 "cells": [
  {
   "cell_type": "markdown",
   "id": "8debce11",
   "metadata": {},
   "source": [
    "## IMPORTANT\n",
    "## Please note: Due date 2021-12-17 23:59\n",
    "## \n",
    "\n",
    "## Exercise 05.01: Subgroup Discovery\n",
    "\n",
    "\n",
    "Part 1: Check out subgroup discovery (again) - the pysubgroup implementation, respectively\n",
    "* pysubgroup: https://github.com/flemmerich/pysubgroup\n",
    "* Further details about implementation: https://link.springer.com/chapter/10.1007/978-3-030-10997-4_46\n",
    "\n",
    "Part 2: Apply pysubgroup\n",
    "* Use the credit-g dataset: https://archive.ics.uci.edu/ml/datasets/statlog+(german+credit+data)\n",
    "* Perform analysis - with respect to three target variables: (1) class, (2) credit amount, (3) age\n",
    "* For the targets, distinguish between nominal and numeric targets in your analysis; test discretization for the numeric targets and compare the results\n",
    "* For doing this, apply preprocessing on the data: Discretize attributes as needed\n",
    "* Experiment with several quality functions: Briefly compare the results, and discuss your findings\n",
    "* Experiment with different algorithms (beam search, SD-Map), and compare their runtimes. What do you observe?"
   ]
  },
  {
   "cell_type": "code",
   "execution_count": 3,
   "id": "9dca1206",
   "metadata": {},
   "outputs": [],
   "source": [
    "import numpy as np\n",
    "import pandas as pd\n",
    "\n",
    "# ... add here\n",
    "import pysubgroup as ps"
   ]
  },
  {
   "cell_type": "markdown",
   "id": "fb203856",
   "metadata": {},
   "source": [
    "## Exercise 05.02: Reading/Discussion/Summary\n",
    "\n",
    "Part 1: Reading:\n",
    "* Read the following paper: Paulheim (2016) \"Knowledge Graph Refinement: A Survey of Approaches and Evaluation Methods\"\n",
    "* The paper is available here: http://www.semantic-web-journal.net/system/files/swj1167.pdf   <br>\n",
    "  (It is also available in the \"files/exercises\" course folder)\n",
    "\n",
    "Part 2: Think about the following questions:\n",
    "* Why are Knowledge Graphs useful?\n",
    "* How are they constructed (with examples)?\n",
    "* What is knowledge graph refinement, and how does it work?\n",
    "* What is knowledge graph completion, and how does it work?\n",
    "* How do you evaluate those techniques?\n",
    "\n",
    "Part 3: Discussing, Summary\n",
    "* Prepare answers for these questions for the practical session on December 14, 2021. You will first discuss these in groups, and then we will discuss them in the plenary meeting.\n",
    "* After that, summarize your findings (and those of the group discussion) in a small report (max. half a Din A4 page). For example, you could write 2-3 sentences for answering a specific question.\n",
    "* Please note, that the due date for handing in the assignment is December 17, 23:59 (!)"
   ]
  },
  {
   "cell_type": "markdown",
   "id": "9fe30961",
   "metadata": {},
   "source": [
    "## Uploading your solution\n",
    "For uploading your solution, please upload two files:\n",
    "* The Jupyter-Notebook file (.ipynb)\n",
    "* An easily human-interpretable PDF (printout/file) of the Jupyter notebook file (.pdf) as python source code\n",
    "* IMPORTANT: Please add your name (Example: MartinAtzmueller), as a suffix to the file names, e.g.:<br>\n",
    "  KBS-Assigment4_MartinAtzmueller.ipynb, KBS-Assignment4_MartinAtzmueller.pdf"
   ]
  },
  {
   "cell_type": "code",
   "execution_count": null,
   "id": "5bda5847",
   "metadata": {},
   "outputs": [],
   "source": []
  }
 ],
 "metadata": {
  "kernelspec": {
   "display_name": "Python 3 (ipykernel)",
   "language": "python",
   "name": "python3"
  },
  "language_info": {
   "codemirror_mode": {
    "name": "ipython",
    "version": 3
   },
   "file_extension": ".py",
   "mimetype": "text/x-python",
   "name": "python",
   "nbconvert_exporter": "python",
   "pygments_lexer": "ipython3",
   "version": "3.8.12"
  }
 },
 "nbformat": 4,
 "nbformat_minor": 5
}
