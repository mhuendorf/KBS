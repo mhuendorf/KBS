{
 "cells": [
  {
   "cell_type": "markdown",
   "id": "e85ceeba",
   "metadata": {},
   "source": [
    "# KBS - Assignment 1"
   ]
  },
  {
   "cell_type": "markdown",
   "id": "867b7b08",
   "metadata": {},
   "source": [
    "# Numpy\n",
    "\n",
    "An interesting resource: https://ad-wiki.informatik.uni-freiburg.de/teaching/NumpyCheatSheet\n",
    "\n",
    "I also recommend to have a look at these resources:\n",
    "* http://www.numpy.org/\n",
    "* https://www.scipy.org/scipylib/\n",
    "* http://wiki.scipy.org/Numpy_Example_List\n",
    "* https://numpy.org/doc/stable/user/quickstart.html\n",
    "* https://docs.scipy.org/doc/scipy/reference/tutorial/\n"
   ]
  },
  {
   "cell_type": "markdown",
   "id": "f6683599",
   "metadata": {},
   "source": [
    "### Numpy arrays\n",
    "Arrays can be created in various ways:"
   ]
  },
  {
   "cell_type": "code",
   "execution_count": null,
   "id": "b2dd73e4",
   "metadata": {},
   "outputs": [],
   "source": [
    "import numpy as np\n",
    "\n",
    "x = np.array([2,3,1,0])\n",
    "print(x)\n",
    "\n",
    "x = np.array([2, 3, 1, 0])\n",
    "print(x)\n",
    "\n",
    "x = np.array([[1,2.0],[0,0],(1+1j,3.)])\n",
    "print(x)\n",
    "\n",
    "x = np.array([[ 1.+0.j, 2.+0.j], [ 0.+0.j, 0.+0.j], [ 1.+1.j, 3.+0.j]]) \n",
    "print(x)"
   ]
  },
  {
   "cell_type": "markdown",
   "id": "28af1f3f",
   "metadata": {},
   "source": [
    "### Creating \"prefilled\" arrays"
   ]
  },
  {
   "cell_type": "code",
   "execution_count": null,
   "id": "7132e390",
   "metadata": {},
   "outputs": [],
   "source": [
    "import numpy as np\n",
    "\n",
    "x = np.zeros((2, 3))\n",
    "print(x)\n",
    "\n",
    "x = np.ones((2, 3))\n",
    "print(x)\n",
    "\n",
    "x = np.arange(10)\n",
    "print(x)\n",
    "\n",
    "x = np.arange(2, 10, dtype=np.float)\n",
    "print(x)\n",
    "\n",
    "x = np.arange(2, 3, 0.1)\n",
    "print(x)\n",
    "\n",
    "x = np.linspace(1., 4., 6)\n",
    "print(x)\n",
    "\n",
    "x = np.random.random((2,3))\n",
    "print(x)\n",
    "\n",
    "x = np.diag([1,2,3])\n",
    "print(x)\n",
    "\n",
    "### reading from a file ==> np.getfromtxt et al."
   ]
  },
  {
   "cell_type": "markdown",
   "id": "d3a90181",
   "metadata": {},
   "source": [
    "### Numpy datatypes"
   ]
  },
  {
   "cell_type": "code",
   "execution_count": null,
   "id": "7e17a6b8",
   "metadata": {},
   "outputs": [],
   "source": [
    "import numpy as np\n",
    "\n",
    "x = np.float32(1.0)\n",
    "print(x)\n",
    "\n",
    "x = np.int_([1,2,4])\n",
    "print(x)\n",
    "\n",
    "x = np.arange(3, dtype=np.uint8)\n",
    "print(x)\n",
    "print(x.dtype)\n"
   ]
  },
  {
   "cell_type": "markdown",
   "id": "9134ce8a",
   "metadata": {},
   "source": [
    "### Array operations\n",
    "* Basic operations apply element-wise. The result is a new array with the resulting elements.\n",
    "* Operations like *= and += will modify the existing array.\n"
   ]
  },
  {
   "cell_type": "code",
   "execution_count": null,
   "id": "8e3514b9",
   "metadata": {},
   "outputs": [],
   "source": [
    "import numpy as np\n",
    "\n",
    "a = np.arange(5)\n",
    "b = np.arange(5) \n",
    "print(a+b)\n",
    "\n",
    "print(a-b)\n",
    "\n",
    "print(a**2)\n",
    "\n",
    "print(a>3)\n",
    "\n",
    "print(10*np.sin(a))\n",
    "\n",
    "a = np.zeros(4).reshape(2,2)\n",
    "a[0,0] = 1\n",
    "a[1,1] = 1\n",
    "b = np.arange(4).reshape(2,2) \n",
    "\n",
    "print(a*b) \n",
    "\n",
    "# dot product (!)\n",
    "print(np.dot(a,b))\n"
   ]
  },
  {
   "cell_type": "markdown",
   "id": "7801e028",
   "metadata": {},
   "source": [
    "## Exercise 01.01\n",
    "Create a 1D array. Then, convert this 1D array to a 2D array with 2 rows."
   ]
  },
  {
   "cell_type": "code",
   "execution_count": 6,
   "id": "3a1d7430",
   "metadata": {},
   "outputs": [
    {
     "data": {
      "text/plain": [
       "array([[0, 1, 2, 3, 4],\n",
       "       [5, 6, 7, 8, 9]])"
      ]
     },
     "execution_count": 6,
     "metadata": {},
     "output_type": "execute_result"
    }
   ],
   "source": [
    "import numpy as np\n",
    "\n",
    "a = np.arange(10)\n",
    "\n",
    "# reshape the array and assign it to a\n",
    "a = a.reshape(2, 5)\n",
    "\n",
    "# Then, the expected output is\n",
    "# array([[0, 1, 2, 3, 4],\n",
    "#        [5, 6, 7, 8, 9]])\n",
    "a"
   ]
  },
  {
   "cell_type": "markdown",
   "id": "4c5c8063",
   "metadata": {},
   "source": [
    "## Exercise 01.02\n",
    "Import the iris dataset into a numpy array, keeping the correct data format."
   ]
  },
  {
   "cell_type": "code",
   "execution_count": 18,
   "id": "c943f7d1",
   "metadata": {},
   "outputs": [
    {
     "data": {
      "text/plain": [
       "array([[b'5.1', b'3.5', b'1.4', b'0.2', b'Iris-setosa'],\n",
       "       [b'4.9', b'3.0', b'1.4', b'0.2', b'Iris-setosa'],\n",
       "       [b'4.7', b'3.2', b'1.3', b'0.2', b'Iris-setosa']], dtype=object)"
      ]
     },
     "execution_count": 18,
     "metadata": {},
     "output_type": "execute_result"
    }
   ],
   "source": [
    "import numpy as np\n",
    "\n",
    "url = 'https://archive.ics.uci.edu/ml/machine-learning-databases/iris/iris.data'\n",
    "iris = np.loadtxt(url, delimiter=\",\", dtype=bytes)\n",
    "iris = iris[0:3].astype(object)\n",
    "\n",
    "iris\n",
    "# this should result in\n",
    "# array([[b'5.1', b'3.5', b'1.4', b'0.2', b'Iris-setosa'],\n",
    "#        [b'4.9', b'3.0', b'1.4', b'0.2', b'Iris-setosa'],\n",
    "#        [b'4.7', b'3.2', b'1.3', b'0.2', b'Iris-setosa']], dtype=object)"
   ]
  },
  {
   "cell_type": "markdown",
   "id": "d8991438",
   "metadata": {},
   "source": [
    "## Exercise 01.03\n",
    "Create an array containing the text column species from iris dataset of the last exercise."
   ]
  },
  {
   "cell_type": "code",
   "execution_count": 22,
   "id": "d2a96402",
   "metadata": {},
   "outputs": [
    {
     "data": {
      "text/plain": [
       "array([b'Iris-setosa', b'Iris-setosa', b'Iris-setosa', b'Iris-setosa',\n",
       "       b'Iris-setosa'], dtype='|S18')"
      ]
     },
     "execution_count": 22,
     "metadata": {},
     "output_type": "execute_result"
    }
   ],
   "source": [
    "import numpy as np\n",
    "\n",
    "url = 'https://archive.ics.uci.edu/ml/machine-learning-databases/iris/iris.data'\n",
    "\n",
    "iris = np.loadtxt(url, delimiter=\",\", dtype=bytes)\n",
    "species = iris[:, 4]  # access 5th row\n",
    "species[:5].astype('|S18')\n",
    "# The output should look like\n",
    "#> (150,)\n",
    "#> array([b'Iris-setosa', b'Iris-setosa', b'Iris-setosa', b'Iris-setosa',\n",
    "#>        b'Iris-setosa'],\n",
    "#>       dtype='|S18')"
   ]
  },
  {
   "cell_type": "markdown",
   "id": "388b4294",
   "metadata": {},
   "source": [
    "## Exercise 01.04\n",
    "Start with the iris dataset - read into an array.\n",
    "Then, create bins of the petal length, i.e. the third column of the iris dataset to form a text array, such that if petal length is:\n",
    "* Less than 3 –> ‘small’\n",
    "* 3-5 –> ‘medium’\n",
    "* ‘>=5 –> ‘large’"
   ]
  },
  {
   "cell_type": "code",
   "execution_count": null,
   "id": "7a232ada",
   "metadata": {},
   "outputs": [],
   "source": [
    "import numpy as np\n",
    "\n",
    "url = 'https://archive.ics.uci.edu/ml/machine-learning-databases/iris/iris.data'\n",
    "# ..."
   ]
  },
  {
   "cell_type": "markdown",
   "id": "93de575d",
   "metadata": {},
   "source": [
    "# Pandas - Intro"
   ]
  },
  {
   "cell_type": "markdown",
   "id": "ceafddb2",
   "metadata": {},
   "source": [
    "Look at https://pandas.pydata.org/pandas-docs/stable/getting_started/10min.html and try out the examples in this notebook below."
   ]
  },
  {
   "cell_type": "code",
   "execution_count": 23,
   "id": "0cbabf77",
   "metadata": {},
   "outputs": [
    {
     "data": {
      "text/html": [
       "\n",
       "        <iframe\n",
       "            width=\"1024\"\n",
       "            height=\"400\"\n",
       "            src=\"https://pandas.pydata.org/pandas-docs/version/1.3/user_guide/10min.html\"\n",
       "            frameborder=\"0\"\n",
       "            allowfullscreen\n",
       "            \n",
       "        ></iframe>\n",
       "        "
      ],
      "text/plain": [
       "<IPython.lib.display.IFrame at 0x116b49220>"
      ]
     },
     "execution_count": 23,
     "metadata": {},
     "output_type": "execute_result"
    }
   ],
   "source": [
    "from IPython.display import IFrame\n",
    "\n",
    "IFrame(src=\"https://pandas.pydata.org/pandas-docs/version/1.3/user_guide/10min.html\", width=1024, height=400)"
   ]
  },
  {
   "cell_type": "code",
   "execution_count": null,
   "id": "02e70f3c",
   "metadata": {},
   "outputs": [],
   "source": []
  },
  {
   "cell_type": "markdown",
   "id": "b55319f5",
   "metadata": {},
   "source": [
    "### Pandas - Advanced Recipes"
   ]
  },
  {
   "cell_type": "markdown",
   "id": "0e6d7cb9",
   "metadata": {},
   "source": [
    "Have a look at https://pandas.pydata.org/pandas-docs/stable/user_guide/cookbook.html#cookbook ; integrate and play with the code in this notebook below."
   ]
  },
  {
   "cell_type": "code",
   "execution_count": 25,
   "id": "d174d1d0",
   "metadata": {},
   "outputs": [
    {
     "data": {
      "text/html": [
       "\n",
       "        <iframe\n",
       "            width=\"1024\"\n",
       "            height=\"400\"\n",
       "            src=\"https://pandas.pydata.org/pandas-docs/stable/user_guide/cookbook.html#cookbook\"\n",
       "            frameborder=\"0\"\n",
       "            allowfullscreen\n",
       "            \n",
       "        ></iframe>\n",
       "        "
      ],
      "text/plain": [
       "<IPython.lib.display.IFrame at 0x116b49430>"
      ]
     },
     "execution_count": 25,
     "metadata": {},
     "output_type": "execute_result"
    }
   ],
   "source": [
    "from IPython.display import IFrame\n",
    "\n",
    "IFrame(src=\"https://pandas.pydata.org/pandas-docs/stable/user_guide/cookbook.html#cookbook\", width=1024, height=400)\n"
   ]
  },
  {
   "cell_type": "code",
   "execution_count": null,
   "id": "d2965a6d",
   "metadata": {},
   "outputs": [],
   "source": [
    "# ...\n"
   ]
  },
  {
   "cell_type": "markdown",
   "id": "82b29f64",
   "metadata": {},
   "source": [
    "## Exercise 01.05\n",
    "Given the series *a_series* reshape it into a dataframe with 7 rows and 5 columns."
   ]
  },
  {
   "cell_type": "code",
   "execution_count": 42,
   "id": "a42e5756",
   "metadata": {},
   "outputs": [
    {
     "name": "stdout",
     "output_type": "stream",
     "text": [
      "   0  1  2  3  4\n",
      "0  5  4  9  3  7\n",
      "1  3  4  4  2  2\n",
      "2  5  6  6  4  2\n",
      "3  3  6  8  1  8\n",
      "4  7  7  8  6  5\n",
      "5  7  1  5  5  1\n",
      "6  5  4  9  5  5\n"
     ]
    }
   ],
   "source": [
    "import numpy as np\n",
    "import pandas as pd\n",
    "\n",
    "a_series = pd.Series(np.random.randint(1, 10, 35))\n",
    "\n",
    "df = pd.DataFrame(a_series.values.reshape(7, 5))\n",
    "print(df)\n",
    "\n",
    "# Example expected output\n",
    "#    0  1  2  3  4\n",
    "# 0  7  8  3  6  6\n",
    "# 1  8  8  7  9  3\n",
    "# 2  8  2  1  8  1\n",
    "# 3  8  9  6  7  8\n",
    "# 4  5  5  6  9  6\n",
    "# 5  9  9  7  9  9\n",
    "# 6  6  7  3  1  6"
   ]
  },
  {
   "cell_type": "markdown",
   "id": "29b093e5",
   "metadata": {},
   "source": [
    "## Exercise 01.06\n",
    "Perform normalization of a dataframe *df* in two ways:\n",
    "* (1) Normalize all columns of the dataframe *df* by subtracting the column mean and divide by the standard deviation.\n",
    "* (2) Normalize all columns of *df* such that the minimum value in each column is 0 and max is 1."
   ]
  },
  {
   "cell_type": "code",
   "execution_count": 75,
   "id": "511898f2",
   "metadata": {},
   "outputs": [
    {
     "name": "stdout",
     "output_type": "stream",
     "text": [
      "          0         1         2         3         4         5         6  \\\n",
      "0 -1.217723  0.560245  0.898244 -1.176051 -1.064928 -1.523311  0.588026   \n",
      "1 -0.995477  0.597286 -0.990846 -1.139010  0.824162 -1.226983 -0.189835   \n",
      "2 -1.402927 -0.328739 -0.620437  0.416711  1.639064  1.365886 -0.337999   \n",
      "3 -0.439862 -0.180575 -0.509314 -1.250133 -0.250027 -0.634327  0.810272   \n",
      "4  1.856680 -0.625067 -0.768601  2.157638 -0.509314 -1.078819  0.291698   \n",
      "5  0.819532  0.004630  1.416818  0.787121 -0.435232  1.699255 -1.004737   \n",
      "6  1.634434 -1.106600 -0.916764  1.305695  0.601916  0.921395  0.958436   \n",
      "7 -0.254657  1.078819  1.490900 -1.101969 -0.805642  0.476903 -1.115860   \n",
      "\n",
      "          7         8         9  \n",
      "0  0.375040  0.976956  1.611283  \n",
      "1 -0.995477  1.199202 -0.722299  \n",
      "2 -0.106493  0.013890 -0.981586  \n",
      "3 -0.588026 -1.727036  0.574135  \n",
      "4  1.634434  1.273284 -1.685365  \n",
      "5 -1.588132  1.569612 -0.314848  \n",
      "6  1.671475 -1.986323  1.018627  \n",
      "7 -0.402821 -1.319585  0.500053  \n",
      "          0         1         2         3         4         5         6  \\\n",
      "0  0.056818  0.762712  0.761194  0.021739  0.000000  0.000000  0.821429   \n",
      "1  0.125000  0.779661  0.000000  0.032609  0.698630  0.091954  0.446429   \n",
      "2  0.000000  0.355932  0.149254  0.489130  1.000000  0.896552  0.375000   \n",
      "3  0.295455  0.423729  0.194030  0.000000  0.301370  0.275862  0.928571   \n",
      "4  1.000000  0.220339  0.089552  1.000000  0.205479  0.137931  0.678571   \n",
      "5  0.681818  0.508475  0.970149  0.597826  0.232877  1.000000  0.053571   \n",
      "6  0.931818  0.000000  0.029851  0.750000  0.616438  0.758621  1.000000   \n",
      "7  0.352273  1.000000  1.000000  0.043478  0.095890  0.620690  0.000000   \n",
      "\n",
      "          7         8         9  \n",
      "0  0.602273  0.833333  1.000000  \n",
      "1  0.181818  0.895833  0.292135  \n",
      "2  0.454545  0.562500  0.213483  \n",
      "3  0.306818  0.072917  0.685393  \n",
      "4  0.988636  0.916667  0.000000  \n",
      "5  0.000000  1.000000  0.415730  \n",
      "6  1.000000  0.000000  0.820225  \n",
      "7  0.363636  0.187500  0.662921  \n"
     ]
    }
   ],
   "source": [
    "import numpy as np\n",
    "import pandas as pd\n",
    "\n",
    "df = pd.DataFrame(np.random.randint(1,100, 80).reshape(8, -1))\n",
    "# (1)\n",
    "df = df.astype(float, copy=False)\n",
    "means = df.mean(axis=0)\n",
    "for i in range (8):\n",
    "    for j in range(10):\n",
    "        df.values[i][j] = (df.values[i][j] - means[j]) / std\n",
    "\n",
    "print(df)\n",
    "\n",
    "# (2)\n",
    "mins = df.min(axis=0)\n",
    "maxs = df.max(axis=0)\n",
    "diffs = maxs-mins\n",
    "for i in range (8):\n",
    "    for j in range(10):\n",
    "        df.values[i][j] = (df.values[i][j] - mins[j]) / diffs[j]\n",
    "\n",
    "print(df)\n"
   ]
  },
  {
   "cell_type": "markdown",
   "id": "8debce11",
   "metadata": {},
   "source": [
    "## Exercise 01.07\n",
    "* Read the paper \"Martin Atzmueller, Joachim Baumeister, and Frank Puppe. Semi-Automatic Learning of Simple Diagnostic Scores utilizing Complexity Measures. Artificial Intelligence in Medicine, 37(1):19–30, 2006.\" (also discussed in the lecture): https://www.sciencedirect.com/science/article/pii/S0933365705000862\n",
    "* Implement a data structure (i.e., a class) for a diagnostic profile - relating to the description in the paper. Obviously, you need to distinguish between diagnoses and (common) attributes/findings.\n",
    "* The class should have an (internal) method build which takes a dataframe, a list of diagnoses, and list of findings (in the form of the respective attributes) and constructs the according diagnostic profile object. You can, for example, implement this as a static method of the class, or use the respective instance method being called from the constructor of the class (for instantiating the object)\n",
    "* For this class, also implement a method prune(...) which takes an integer for removing infrequent findings\n",
    "* Test your implementation, via reading in and applying your implementation on this dataset: \n",
    "https://archive.ics.uci.edu/ml/datasets/Breast+Cancer\n",
    "* Here, you can consider the class attribute for the different diagnoses (i.e., consider the individual values of the class attribute as such)."
   ]
  },
  {
   "cell_type": "code",
   "execution_count": 2,
   "id": "9dca1206",
   "metadata": {},
   "outputs": [],
   "source": [
    "import numpy as np\n",
    "import pandas as pd\n",
    "\n",
    "class DiagnosticProfile:\n",
    "    "
   ]
  },
  {
   "cell_type": "code",
   "execution_count": null,
   "id": "563984ec",
   "metadata": {},
   "outputs": [],
   "source": []
  }
 ],
 "metadata": {
  "kernelspec": {
   "display_name": "Python 3 (ipykernel)",
   "language": "python",
   "name": "python3"
  },
  "language_info": {
   "codemirror_mode": {
    "name": "ipython",
    "version": 3
   },
   "file_extension": ".py",
   "mimetype": "text/x-python",
   "name": "python",
   "nbconvert_exporter": "python",
   "pygments_lexer": "ipython3",
   "version": "3.9.6"
  }
 },
 "nbformat": 4,
 "nbformat_minor": 5
}
